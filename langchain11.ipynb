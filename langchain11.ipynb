{
 "cells": [
  {
   "cell_type": "code",
   "execution_count": 7,
   "metadata": {},
   "outputs": [],
   "source": [
    "from dotenv import load_dotenv\n",
    "load_dotenv()\n",
    "import os\n",
    "api_key = os.environ[\"OPENAI_API_KEY\"]"
   ]
  },
  {
   "cell_type": "code",
   "execution_count": 5,
   "metadata": {},
   "outputs": [],
   "source": [
    "from langchain.prompts import PromptTemplate\n",
    "\n",
    "summarization_template = PromptTemplate(\n",
    "    input_variables=[\"text\"],\n",
    "    template=\"Please summarize the following text:\\n\\n{text}\\n\\nSummary:\"\n",
    ")\n"
   ]
  },
  {
   "cell_type": "code",
   "execution_count": 4,
   "metadata": {},
   "outputs": [],
   "source": [
    "translation_template = PromptTemplate(\n",
    "    input_variables=[\"summary\"],\n",
    "    template=\"Translate the following summary into French:\\n\\n{summary}\\n\\nFrench Translation:\"\n",
    ")\n"
   ]
  },
  {
   "cell_type": "code",
   "execution_count": 3,
   "metadata": {},
   "outputs": [
    {
     "name": "stdout",
     "output_type": "stream",
     "text": [
      "\n",
      "पर्यावरण परिवर्तन एक गंभीर मुद्दा है और भयानक परिणामों से बचने के लिए कार्बन उत्सर्जन को कम करने के लिए तत्काल कार्रवाई की आवश्यकता है। व्यक्तियों, सरकारों और संगठनों के बीच सहयोग महत्वपूर्ण है इस चुनौती का सामना करने के लिए।\n"
     ]
    }
   ],
   "source": [
    "# Import necessary modules\n",
    "from langchain.prompts import PromptTemplate\n",
    "from langchain.chains import LLMChain, SimpleSequentialChain\n",
    "from langchain.llms import OpenAI  # Example using OpenAI as the LLM\n",
    "\n",
    "# Step 1: Create PromptTemplate instances\n",
    "# Summarization template\n",
    "summarization_template = PromptTemplate(\n",
    "    input_variables=[\"text\"],\n",
    "    template=\"Please summarize the following text:\\n\\n{text}\\n\\nSummary:\"\n",
    ")\n",
    "\n",
    "# Translation template\n",
    "translation_template = PromptTemplate(\n",
    "    input_variables=[\"summary\"],\n",
    "    template=\"Translate the following summary into hindi:\\n\\n{summary}\\n\\nFrench Translation:\"\n",
    ")\n",
    "\n",
    "# Step 2: Initialize LLMChain instances\n",
    "# Initialize the LLM (e.g., OpenAI)\n",
    "llm = OpenAI(temperature=0.7)  # Adjust temperature as needed\n",
    "\n",
    "# LLMChain for summarization\n",
    "summarization_chain = LLMChain(\n",
    "    llm=llm,\n",
    "    prompt=summarization_template\n",
    ")\n",
    "\n",
    "# LLMChain for translation\n",
    "translation_chain = LLMChain(\n",
    "    llm=llm,\n",
    "    prompt=translation_template\n",
    ")\n",
    "\n",
    "# Step 3: Combine the chains using SimpleSequentialChain\n",
    "combined_chain = SimpleSequentialChain(chains=[summarization_chain, translation_chain])\n",
    "\n",
    "# Step 4: Run the chain on a sample long text\n",
    "sample_text = \"\"\"In recent years, climate change has become a pressing global issue. \n",
    "Scientists warn that if immediate action is not taken to reduce carbon emissions, \n",
    "the effects will be catastrophic. Extreme weather events, rising sea levels, and \n",
    "threatened ecosystems are just a few consequences that we may face. \n",
    "It is crucial for individuals, governments, and organizations to work together to address this challenge.\"\"\"\n",
    "\n",
    "# Execute the chain\n",
    "final_result = combined_chain.run(sample_text)\n",
    "\n",
    "# Print the final translated summary\n",
    "print(final_result)\n"
   ]
  }
 ],
 "metadata": {
  "kernelspec": {
   "display_name": "Python 3",
   "language": "python",
   "name": "python3"
  },
  "language_info": {
   "codemirror_mode": {
    "name": "ipython",
    "version": 3
   },
   "file_extension": ".py",
   "mimetype": "text/x-python",
   "name": "python",
   "nbconvert_exporter": "python",
   "pygments_lexer": "ipython3",
   "version": "3.11.7"
  }
 },
 "nbformat": 4,
 "nbformat_minor": 2
}
