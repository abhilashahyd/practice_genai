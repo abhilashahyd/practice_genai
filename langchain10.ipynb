{
 "cells": [
  {
   "cell_type": "code",
   "execution_count": 4,
   "metadata": {},
   "outputs": [
    {
     "name": "stderr",
     "output_type": "stream",
     "text": [
      "C:\\Users\\Nanhi Deo\\AppData\\Roaming\\Python\\Python311\\site-packages\\sentence_transformers\\cross_encoder\\CrossEncoder.py:13: TqdmWarning: IProgress not found. Please update jupyter and ipywidgets. See https://ipywidgets.readthedocs.io/en/stable/user_install.html\n",
      "  from tqdm.autonotebook import tqdm, trange\n"
     ]
    },
    {
     "name": "stdout",
     "output_type": "stream",
     "text": [
      "* Running on local URL:  http://127.0.0.1:7860\n",
      "\n",
      "To create a public link, set `share=True` in `launch()`.\n"
     ]
    },
    {
     "data": {
      "text/html": [
       "<div><iframe src=\"http://127.0.0.1:7860/\" width=\"100%\" height=\"500\" allow=\"autoplay; camera; microphone; clipboard-read; clipboard-write;\" frameborder=\"0\" allowfullscreen></iframe></div>"
      ],
      "text/plain": [
       "<IPython.core.display.HTML object>"
      ]
     },
     "metadata": {},
     "output_type": "display_data"
    },
    {
     "data": {
      "text/plain": []
     },
     "execution_count": 4,
     "metadata": {},
     "output_type": "execute_result"
    }
   ],
   "source": [
    "import pandas as pd\n",
    "from sentence_transformers import SentenceTransformer, util\n",
    "import gradio as gr\n",
    "\n",
    "# Step 1: Create mock DataFrame\n",
    "data = {\n",
    "    'document_id': [1, 2, 3],\n",
    "    'text_chunk': [\n",
    "        \"This is the first document about AI.\",\n",
    "        \"This document discusses machine learning and its applications.\",\n",
    "        \"The third document covers natural language processing techniques.\"\n",
    "    ]\n",
    "}\n",
    "df = pd.DataFrame(data)\n",
    "\n",
    "# Step 2: Initialize your model and embed the document chunks\n",
    "model = SentenceTransformer('all-MiniLM-L6-v2')\n",
    "df['embeddings'] = df['text_chunk'].apply(lambda x: model.encode(x))\n",
    "\n",
    "# Step 3: Define the search function\n",
    "def search(query, df, top_n=2):\n",
    "    query_embedding = model.encode(query)\n",
    "    df['similarity'] = df['embeddings'].apply(lambda x: util.cos_sim(x, query_embedding).item())\n",
    "    top_results = df.nlargest(top_n, 'similarity')\n",
    "    return top_results['text_chunk'].tolist()\n",
    "\n",
    "# Step 4: Combine query with top search results\n",
    "def combine_query_with_results(query, top_chunks):\n",
    "    combined_input = query + \"\\n\" + \"\\n\".join(top_chunks)\n",
    "    return combined_input\n",
    "\n",
    "# Step 5: Generate answers (placeholder function)\n",
    "def generate_answer(combined_input):\n",
    "    # Replace this with your generative model call\n",
    "    return f\"Generated answer based on the input: {combined_input}\"\n",
    "\n",
    "# Gradio Interface Function\n",
    "def qa_system(user_query):\n",
    "    top_chunks = search(user_query, df)\n",
    "    combined_input = combine_query_with_results(user_query, top_chunks)\n",
    "    answer = generate_answer(combined_input)\n",
    "    return answer\n",
    "\n",
    "# Step 6: Create Gradio interface\n",
    "iface = gr.Interface(\n",
    "    fn=qa_system,\n",
    "    inputs=gr.Textbox(lines=2, placeholder=\"Enter your question here...\"),\n",
    "    outputs=\"text\",\n",
    "    title=\"Document QA System\",\n",
    "    description=\"Ask a question and get answers based on the provided documents.\"\n",
    ")\n",
    "\n",
    "# Step 7: Launch the Gradio app\n",
    "iface.launch()\n"
   ]
  },
  {
   "cell_type": "code",
   "execution_count": 7,
   "metadata": {},
   "outputs": [],
   "source": [
    "from dotenv import load_dotenv\n",
    "load_dotenv()\n",
    "import os \n",
    "openapi_key = os.environ['OPENAI_API_KEY']"
   ]
  },
  {
   "cell_type": "code",
   "execution_count": null,
   "metadata": {},
   "outputs": [],
   "source": [
    "import openai\n",
    "from langsmith.wrappers import wrap_openai\n",
    "from langsmith import traceable\n",
    "\n",
    "client = wrap_openai(openai.Client())\n"
   ]
  },
  {
   "cell_type": "code",
   "execution_count": null,
   "metadata": {},
   "outputs": [],
   "source": [
    "from langsmith import Client\n",
    "from dotenv import load_dotenv\n",
    "import os\n",
    "api_key = os.environ['OPENAI_API_KEY']\n",
    "\n",
    "client = Client(api_key=api_key)\n",
    "\n",
    "\n",
    "client = Client()\n",
    "\n",
    "# Define dataset: these are your test cases\n",
    "dataset_name = \"QA Example Dataset\"\n",
    "dataset = client.create_dataset(dataset_name)\n",
    "client.create_examples(\n",
    "    inputs=[\n",
    "        {\"question\": \"What is LangChain?\"},\n",
    "        {\"question\": \"What is LangSmith?\"},\n",
    "        {\"question\": \"What is OpenAI?\"},\n",
    "        {\"question\": \"What is Google?\"},\n",
    "        {\"question\": \"What is Mistral?\"},\n",
    "    ],\n",
    "    outputs=[\n",
    "        {\"answer\": \"A framework for building LLM applications\"},\n",
    "        {\"answer\": \"A platform for observing and evaluating LLM applications\"},\n",
    "        {\"answer\": \"A company that creates Large Language Models\"},\n",
    "        {\"answer\": \"A technology company known for search\"},\n",
    "        {\"answer\": \"A company that creates Large Language Models\"},\n",
    "    ],\n",
    "    dataset_id=dataset.id,\n",
    ")"
   ]
  },
  {
   "cell_type": "code",
   "execution_count": null,
   "metadata": {},
   "outputs": [],
   "source": [
    "from langchain.output_parsers import DatetimeOutputParser,CommaSeparatedListOutputParser , PydanticOutputParser\n",
    "\n",
    "date_time_parser = DatetimeOutputParser()"
   ]
  },
  {
   "cell_type": "code",
   "execution_count": null,
   "metadata": {},
   "outputs": [],
   "source": []
  }
 ],
 "metadata": {
  "kernelspec": {
   "display_name": "Python 3",
   "language": "python",
   "name": "python3"
  },
  "language_info": {
   "codemirror_mode": {
    "name": "ipython",
    "version": 3
   },
   "file_extension": ".py",
   "mimetype": "text/x-python",
   "name": "python",
   "nbconvert_exporter": "python",
   "pygments_lexer": "ipython3",
   "version": "3.11.7"
  }
 },
 "nbformat": 4,
 "nbformat_minor": 2
}
