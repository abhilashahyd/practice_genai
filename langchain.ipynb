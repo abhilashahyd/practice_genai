{
 "cells": [
  {
   "cell_type": "code",
   "execution_count": 7,
   "metadata": {},
   "outputs": [],
   "source": [
    "import os \n",
    "from dotenv import load_dotenv\n",
    "load_dotenv()\n",
    "\n",
    "os.environ['OPENAI_API_KEY']=\"OPENAI_API_KEY\"\n",
    "os.environ['SPRPAPI_API_KEY']=\"OPENAI_API_KEY\"\n"
   ]
  },
  {
   "cell_type": "code",
   "execution_count": 15,
   "metadata": {},
   "outputs": [
    {
     "data": {
      "text/plain": [
       "'I want you to  act as a acting financial advisor for people.\\nIn an easy way, explain the basics of income txt.'"
      ]
     },
     "execution_count": 15,
     "metadata": {},
     "output_type": "execute_result"
    }
   ],
   "source": [
    "from langchain import PromptTemplate\n",
    "from dotenv import load_dotenv\n",
    "load_dotenv()\n",
    "\n",
    "my_tamplate='''I want you to  act as a acting financial advisor for people.\n",
    "In an easy way, explain the basics of {financial_concept}.'''\n",
    "\n",
    "prompt = PromptTemplate(\n",
    "    input_variables= ['financial_concept'],\n",
    "    template = my_tamplate\n",
    "\n",
    "    )\n",
    "prompt.format(financial_concept='income txt')"
   ]
  },
  {
   "cell_type": "code",
   "execution_count": null,
   "metadata": {},
   "outputs": [],
   "source": [
    "from langchain.llms import OpenAI\n",
    "from langchain.chains import LLMChain\n",
    "llm = OpenAI(temperature=0.7)\n",
    "chain1 = LLMChain(llm=llm, prompt=prompt)\n",
    "\n"
   ]
  },
  {
   "cell_type": "code",
   "execution_count": 22,
   "metadata": {},
   "outputs": [
    {
     "data": {
      "text/plain": [
       "'\\nAs a financial advisor, my role is to help people make informed decisions about their money and plan for their financial future. The basics of financial literacy can be broken down into a few key areas:\\n\\n1. Budgeting: This is the process of tracking your income and expenses to understand where your money is going. It allows you to create a plan for how much you can spend and save each month.\\n\\n2. Saving: This involves setting aside a portion of your income for future use. It is important to have an emergency fund for unexpected expenses and to save for long-term goals such as retirement.\\n\\n3. Investing: This is the process of putting your money into different types of assets, such as stocks, bonds, real estate, or businesses, with the goal of growing your wealth over time.\\n\\n4. Debt management: This involves understanding and managing debt, such as credit card debt, student loans, or mortgages. It is important to have a plan to pay off debt and avoid high interest rates.\\n\\n5. Insurance: This is a way to protect yourself and your assets from financial loss due to unexpected events, such as illness, accidents, or natural disasters.\\n\\n6. Retirement planning: This involves creating a plan for how you will support yourself financially during your retirement years. This'"
      ]
     },
     "execution_count": 22,
     "metadata": {},
     "output_type": "execute_result"
    }
   ],
   "source": [
    "chain1.run('financial txt')"
   ]
  },
  {
   "cell_type": "code",
   "execution_count": 27,
   "metadata": {},
   "outputs": [
    {
     "data": {
      "text/plain": [
       "\"In an easy way translate the following sentenc 'what is python' into hindi\""
      ]
     },
     "execution_count": 27,
     "metadata": {},
     "output_type": "execute_result"
    }
   ],
   "source": [
    "from langchain import PromptTemplate\n",
    "template = '''In an easy way translate the following sentenc '{sentence}' into {target_language}'''\n",
    "language_prompt = PromptTemplate(\n",
    "    input_variables=['sentence','target_language'],\n",
    "    template=template,\n",
    ")\n",
    "\n",
    "language_prompt.format(sentence='how are you',target_language='hindi')"
   ]
  },
  {
   "cell_type": "code",
   "execution_count": 28,
   "metadata": {},
   "outputs": [
    {
     "data": {
      "text/plain": [
       "{'sentence': 'hello, how are you',\n",
       " 'target_language': 'Hindi',\n",
       " 'text': '\\n\\nनमस्ते, आप कैसे हो? (Namaste, aap kaise ho?)'}"
      ]
     },
     "execution_count": 28,
     "metadata": {},
     "output_type": "execute_result"
    }
   ],
   "source": [
    "chain2=LLMChain(llm=llm,prompt=language_prompt)\n",
    "chain2({'sentence':\"hello, how are you\",'target_language':\"Hindi\"})"
   ]
  },
  {
   "cell_type": "code",
   "execution_count": 48,
   "metadata": {},
   "outputs": [],
   "source": [
    "from langchain import PromptTemplate, FewShotPromptTemplate\n",
    "\n",
    "examples = [\n",
    "    {'word':'happy','antonym':'say'},\n",
    "    {'word':'tall','antonym':'short'},\n",
    "]\n",
    "\n",
    "example_format_templat = \"\"\"word:{word}\n",
    "antonym:{antonym}\"\"\"\n",
    "\n",
    "example_prompt = PromptTemplate(\n",
    "    input_variables = ['word','antonym'],\n",
    "    template=example_format_templat,\n",
    ")"
   ]
  },
  {
   "cell_type": "code",
   "execution_count": 54,
   "metadata": {},
   "outputs": [],
   "source": [
    "examples = [\n",
    "    {\"input\": \"happy\", \"antonym\": \"sad\"},\n",
    "    {\"input\": \"hot\", \"antonym\": \"cold\"}\n",
    "]\n",
    "\n",
    "# Define your example prompt template\n",
    "example_prompt = PromptTemplate(\n",
    "    input_variables=[\"input\", \"antonym\"],  # Ensure these are correct\n",
    "    template=\"Input: {input}\\nAntonym: {antonym}\"\n",
    ")"
   ]
  }
 ],
 "metadata": {
  "language_info": {
   "name": "python"
  }
 },
 "nbformat": 4,
 "nbformat_minor": 2
}
