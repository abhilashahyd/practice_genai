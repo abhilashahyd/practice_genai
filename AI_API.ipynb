{
 "cells": [
  {
   "cell_type": "code",
   "execution_count": 4,
   "metadata": {},
   "outputs": [],
   "source": [
    "import openai\n",
    "import os\n",
    "from dotenv import load_dotenv\n",
    "load_dotenv()\n",
    "\n",
    "# Set up your OpenAI API key\n",
    "openai.api_key = os.environ[ 'OPENAI_API_KEY']"
   ]
  },
  {
   "cell_type": "code",
   "execution_count": 5,
   "metadata": {},
   "outputs": [],
   "source": [
    "def rewrite_resume(markdown_resume, job_description):\n",
    "    # Define a prompt template\n",
    "    prompt = f\"\"\"\n",
    "    Given the following resume in markdown format:\n",
    "\n",
    "    {markdown_resume}\n",
    "\n",
    "    and the following job description:\n",
    "\n",
    "    {job_description}\n",
    "\n",
    "    Please rewrite the resume to better match the job description while maintaining the original structure and style. Output the new resume in markdown format.\n",
    "    \"\"\"\n",
    "\n",
    "    # Call the OpenAI API\n",
    "    response = openai.ChatCompletion.create(\n",
    "        model='gpt-4o-mini',  # or 'gpt-3.5-turbo' depending on your access\n",
    "        messages=[\n",
    "            {\"role\": \"user\", \"content\": prompt}\n",
    "        ],\n",
    "        max_tokens=1500,  # Adjust this based on the expected length of the response\n",
    "        temperature=0.7  # Control creativity\n",
    "    )\n",
    "\n",
    "    # Extract the rewritten resume from the response\n",
    "    rewritten_resume = response['choices'][0]['message']['content']\n",
    "    return rewritten_resume"
   ]
  },
  {
   "cell_type": "code",
   "execution_count": 7,
   "metadata": {},
   "outputs": [
    {
     "name": "stdout",
     "output_type": "stream",
     "text": [
      "```markdown\n",
      "# Nanhi Dev\n",
      "**Address:** Hyderabad, Kukatpally  \n",
      "**Mobile No:** 7250508503  \n",
      "**Email ID:** nanhidev.me@gmail.com  \n",
      "\n",
      "## Education\n",
      "**B.A**, V.N.M. Madhepura University, Patna (2021-2024)\n",
      "\n",
      "## Technical Skills\n",
      "### Programming Languages\n",
      "- Python\n",
      "- JavaScript\n",
      "- HTML\n",
      "- CSS\n",
      "\n",
      "### Frameworks & Libraries\n",
      "- Django\n",
      "- Flask\n",
      "- RESTful APIs\n",
      "\n",
      "### Databases\n",
      "- MySQL\n",
      "- SQLite\n",
      "\n",
      "### Version Control\n",
      "- Git\n",
      "\n",
      "### Development Environments\n",
      "- VS Code\n",
      "- PyCharm\n",
      "\n",
      "## Relevant Experience\n",
      "As a Full Stack Python Developer, I have hands-on experience in developing and maintaining web applications using Django and Flask. My skill set includes creating RESTful APIs for seamless front-end and back-end communication. I am proficient in using version control systems like Git for collaborative projects and have experience working with databases such as MySQL and SQLite.\n",
      "\n",
      "I am passionate about writing clean and efficient code, and I continuously seek to improve my technical skills and stay updated with industry trends.\n",
      "```\n"
     ]
    }
   ],
   "source": [
    "\n",
    "# Example usage\n",
    "if __name__ == \"__main__\":\n",
    "    # Sample markdown resume and job description\n",
    "    markdown_resume = \"\"\"\n",
    "  Name : Nanhi Dev\n",
    "  Address : Hyderabad at kukatpally\n",
    "  Moblie no : 7250508503\n",
    "  Email id : nanhidev.me@gmail.com\n",
    "\n",
    "  Education :\n",
    "  B.A , V.N.M.Madhepura Univarsity in Patna(2021-2024)\n",
    "\n",
    "  Technical Skills :\n",
    "  Programming Languages: Python, JavaScript, HTML, CSS\n",
    "  Frameworks & Libraries: Django, Flask, RestAPI\n",
    "  Databases: MySQL, SQLite\n",
    "  Version Control: Git\n",
    "  Development Environments: VS Code, PyCharm\n",
    "  \n",
    "  \"\"\"\n",
    "\n",
    "    job_description = \"\"\"\n",
    "    We are looking for a Full Stack Python Developer . \"\"\"\n",
    "\n",
    "    # Rewrite the resume\n",
    "    new_resume = rewrite_resume(markdown_resume, job_description)\n",
    "    print(new_resume)"
   ]
  }
 ],
 "metadata": {
  "kernelspec": {
   "display_name": "Python 3",
   "language": "python",
   "name": "python3"
  },
  "language_info": {
   "codemirror_mode": {
    "name": "ipython",
    "version": 3
   },
   "file_extension": ".py",
   "mimetype": "text/x-python",
   "name": "python",
   "nbconvert_exporter": "python",
   "pygments_lexer": "ipython3",
   "version": "3.11.7"
  }
 },
 "nbformat": 4,
 "nbformat_minor": 2
}
