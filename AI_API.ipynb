{
 "cells": [
  {
   "cell_type": "code",
   "execution_count": 8,
   "metadata": {},
   "outputs": [],
   "source": [
    "import openai\n",
    "import os\n",
    "from dotenv import load_dotenv\n",
    "load_dotenv()\n",
    "\n",
    "# Set up your OpenAI API key\n",
    "openai.api_key = os.environ[ 'OPENAI_API_KEY']"
   ]
  },
  {
   "cell_type": "code",
   "execution_count": 9,
   "metadata": {},
   "outputs": [],
   "source": [
    "def rewrite_resume(markdown_resume, job_description):\n",
    "    # Define a prompt template\n",
    "    prompt = f\"\"\"\n",
    "    Given the following resume in markdown format:\n",
    "\n",
    "    {markdown_resume}\n",
    "\n",
    "    and the following job description:\n",
    "\n",
    "    {job_description}\n",
    "\n",
    "    Please rewrite the resume to better match the job description while maintaining the original structure and style. Output the new resume in markdown format.\n",
    "    \"\"\"\n",
    "\n",
    "    # Call the OpenAI API\n",
    "    response = openai.ChatCompletion.create(\n",
    "        model='gpt-4o-mini',  # or 'gpt-3.5-turbo' depending on your access\n",
    "        messages=[\n",
    "            {\"role\": \"user\", \"content\": prompt}\n",
    "        ],\n",
    "        max_tokens=1500,  # Adjust this based on the expected length of the response\n",
    "        temperature=0.7  # Control creativity\n",
    "    )\n",
    "\n",
    "    # Extract the rewritten resume from the response\n",
    "    rewritten_resume = response['choices'][0]['message']['content']\n",
    "    return rewritten_resume"
   ]
  },
  {
   "cell_type": "code",
   "execution_count": 10,
   "metadata": {},
   "outputs": [
    {
     "name": "stdout",
     "output_type": "stream",
     "text": [
      "```markdown\n",
      "# Resume\n",
      "\n",
      "**Name:** Nanhi Dev  \n",
      "**Address:** Hyderabad, Kukatpally  \n",
      "**Mobile No:** 7250508503  \n",
      "**Email ID:** nanhidev.me@gmail.com  \n",
      "\n",
      "## Education  \n",
      "**B.A**, V.N.M. Madhepura University, Patna (2021-2024)  \n",
      "\n",
      "## Technical Skills  \n",
      "**Programming Languages:** Python, JavaScript, HTML, CSS  \n",
      "**Frameworks & Libraries:** Django, Flask, RESTful APIs  \n",
      "**Databases:** MySQL, SQLite  \n",
      "**Version Control:** Git  \n",
      "**Development Environments:** VS Code, PyCharm  \n",
      "\n",
      "## Summary  \n",
      "Enthusiastic Full Stack Python Developer with a strong foundation in both front-end and back-end technologies. Proficient in building robust web applications using Python frameworks like Django and Flask. Skilled in REST API development and responsive web design. Eager to contribute to innovative projects and collaborate within a dynamic team environment.\n",
      "\n",
      "## Projects  \n",
      "- **Web Application Development:** Designed and developed a full-stack web application using Django for the backend and JavaScript, HTML, and CSS for the frontend, integrating MySQL for data management.  \n",
      "- **RESTful API Implementation:** Created REST APIs for a project enabling seamless data exchange between the client and server, showcasing effective use of Flask.  \n",
      "\n",
      "## Additional Skills  \n",
      "- Strong problem-solving abilities and attention to detail.  \n",
      "- Effective communication and teamwork skills, with a passion for learning and adapting to new technologies.  \n",
      "```\n",
      "\n"
     ]
    }
   ],
   "source": [
    "\n",
    "# Example usage\n",
    "if __name__ == \"__main__\":\n",
    "    # Sample markdown resume and job description\n",
    "    markdown_resume = \"\"\"\n",
    "  Name : Nanhi Dev\n",
    "  Address : Hyderabad at kukatpally\n",
    "  Mobile no : 7250508503\n",
    "  Email id : nanhidev.me@gmail.com\n",
    "\n",
    "  Education :\n",
    "  B.A , V.N.M.Madhepura University in Patna(2021-2024)\n",
    "\n",
    "  Technical Skills :\n",
    "  Programming Languages: Python, JavaScript, HTML, CSS\n",
    "  Frameworks & Libraries: Django, Flask, RestAPI\n",
    "  Databases: MySQL, SQLite\n",
    "  Version Control: Git\n",
    "  Development Environments: VS Code, PyCharm\n",
    "  \n",
    "  \"\"\"\n",
    "\n",
    "    job_description = \"\"\"\n",
    "    We are looking for a Full Stack Python Developer . \"\"\"\n",
    "\n",
    "    # Rewrite the resume\n",
    "    new_resume = rewrite_resume(markdown_resume, job_description)\n",
    "    print(new_resume)"
   ]
  }
 ],
 "metadata": {
  "kernelspec": {
   "display_name": "Python 3",
   "language": "python",
   "name": "python3"
  },
  "language_info": {
   "codemirror_mode": {
    "name": "ipython",
    "version": 3
   },
   "file_extension": ".py",
   "mimetype": "text/x-python",
   "name": "python",
   "nbconvert_exporter": "python",
   "pygments_lexer": "ipython3",
   "version": "3.11.7"
  }
 },
 "nbformat": 4,
 "nbformat_minor": 2
}
