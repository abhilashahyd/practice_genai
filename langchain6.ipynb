{
 "cells": [
  {
   "cell_type": "code",
   "execution_count": 1,
   "metadata": {},
   "outputs": [],
   "source": [
    "from dotenv import load_dotenv\n",
    "load_dotenv()\n",
    "import os \n",
    "openapi_key = os.environ['OPENAI_API_KEY']"
   ]
  },
  {
   "cell_type": "code",
   "execution_count": 2,
   "metadata": {},
   "outputs": [],
   "source": [
    "from langchain_community.chat_models import ChatAnthropic\n"
   ]
  },
  {
   "cell_type": "code",
   "execution_count": 4,
   "metadata": {},
   "outputs": [],
   "source": [
    "from langchain.prompts import PromptTemplate\n",
    "from langchain_openai import OpenAI\n",
    "\n",
    "\n",
    "llm = OpenAI(openai_api_key=openapi_key)"
   ]
  },
  {
   "cell_type": "code",
   "execution_count": 5,
   "metadata": {},
   "outputs": [
    {
     "name": "stdout",
     "output_type": "stream",
     "text": [
      "input_variables=[] input_types={} partial_variables={} template='Tell me a python Trick'\n"
     ]
    }
   ],
   "source": [
    "prompt = PromptTemplate(\n",
    "    input_variables = [],template='Tell me a python Trick'\n",
    ")\n",
    "print(prompt)"
   ]
  },
  {
   "cell_type": "code",
   "execution_count": 6,
   "metadata": {},
   "outputs": [
    {
     "name": "stdout",
     "output_type": "stream",
     "text": [
      "input_variables=[] input_types={} partial_variables={} template='Tell me a python Trick'\n"
     ]
    }
   ],
   "source": [
    "prompt = PromptTemplate.from_template(\"Tell me a python Trick\")\n",
    "prompt.format()\n",
    "print(prompt)"
   ]
  },
  {
   "cell_type": "code",
   "execution_count": 11,
   "metadata": {},
   "outputs": [
    {
     "name": "stdout",
     "output_type": "stream",
     "text": [
      "Response : \n",
      "\n",
      "Once upon a time, in a small village in Nepal, there lived a young girl named Maya. She was known for her kind heart and helpful nature. She lived with her parents and two younger siblings in a simple but happy home.\n",
      "\n",
      "One day, while Maya was out collecting firewood in the forest, she came across an old woman sitting under a tree. The woman seemed tired and weak, and Maya could see that she was hungry. Without hesitation, Maya offered the woman some food and water from her basket.\n",
      "\n",
      "The woman gratefully accepted and thanked Maya, saying, \"You are a kind and generous girl, Maya. As a reward for your kindness, I will grant you three wishes.\"\n",
      "\n",
      "Maya was surprised but also excited. She thought carefully about her wishes and decided to use them to help her family and the people in her village. For her first wish, she asked for her family to always have enough food and never go hungry. The old woman smiled and granted her wish.\n",
      "\n",
      "For her second wish, Maya asked for her village to have clean drinking water. The old woman nodded and granted her wish, saying, \"Your village will now have a clean and abundant water source that will never run dry.\"\n",
      "\n",
      "For her final wish, Maya asked for her village to have\n"
     ]
    }
   ],
   "source": [
    "prompt = PromptTemplate(\n",
    "    input_variable=['story'],template='Tell me a chath maiya story'\n",
    ")\n",
    "format_prompt = prompt.format()\n",
    "response = llm.invoke(format_prompt)\n",
    "print('Response :',response)"
   ]
  }
 ],
 "metadata": {
  "kernelspec": {
   "display_name": "Python 3",
   "language": "python",
   "name": "python3"
  },
  "language_info": {
   "codemirror_mode": {
    "name": "ipython",
    "version": 3
   },
   "file_extension": ".py",
   "mimetype": "text/x-python",
   "name": "python",
   "nbconvert_exporter": "python",
   "pygments_lexer": "ipython3",
   "version": "3.11.7"
  }
 },
 "nbformat": 4,
 "nbformat_minor": 2
}
