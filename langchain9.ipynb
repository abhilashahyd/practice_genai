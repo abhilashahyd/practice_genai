{
 "cells": [
  {
   "cell_type": "code",
   "execution_count": 2,
   "metadata": {},
   "outputs": [],
   "source": [
    "from dotenv import load_dotenv\n",
    "import os\n",
    "load_dotenv()\n",
    "openapi_key = os.environ['OPENAI_API_KEY']"
   ]
  },
  {
   "cell_type": "code",
   "execution_count": 33,
   "metadata": {},
   "outputs": [],
   "source": [
    "from langchain_core.prompts.few_shot import FewShotPromptTemplate\n",
    "from langchain_core.prompts.prompt import PromptTemplate\n",
    "from langchain.prompts import ChatPromptTemplate\n",
    "\n",
    "# Example data\n",
    "examples = [\n",
    "   {\"input\": \"10+30\", \"output\": \"40\"},\n",
    "    {\"input\": \"50+120\", \"output\": \"170\"},\n",
    "    {'input':\"50-25\",'output':'25'},\n",
    "    {'input':'344-300','output':'44'},\n",
    "    {'input':'500*3','output':\"1500\"},\n",
    "    {'input':'60*4','output':240}\n",
    "]\n"
   ]
  },
  {
   "cell_type": "code",
   "execution_count": 34,
   "metadata": {},
   "outputs": [
    {
     "name": "stdout",
     "output_type": "stream",
     "text": [
      "output: 40\n",
      "10+30\n"
     ]
    }
   ],
   "source": [
    "example_prompt = PromptTemplate(\n",
    "    input_variables = ['human','{input}'],\n",
    "    template = \"output: {output}\\n{input}\"\n",
    ")\n",
    "print(example_prompt.format(**examples[0]))\n",
    "\n"
   ]
  },
  {
   "cell_type": "code",
   "execution_count": 35,
   "metadata": {},
   "outputs": [
    {
     "name": "stdout",
     "output_type": "stream",
     "text": [
      "output: 40\n",
      "10+30\n",
      "\n",
      "output: 170\n",
      "50+120\n",
      "\n",
      "output: 25\n",
      "50-25\n",
      "\n",
      "output: 44\n",
      "344-300\n",
      "\n",
      "output: 1500\n",
      "500*3\n",
      "\n",
      "output: 240\n",
      "60*4\n",
      "\n",
      "output : addition,subtraction,multiply\n"
     ]
    }
   ],
   "source": [
    "prompt = FewShotPromptTemplate(\n",
    "    examples = examples,\n",
    "    example_prompt=example_prompt,\n",
    "    suffix=\"output : {input}\",\n",
    "    input_variables = ['input'],\n",
    ")\n",
    "print(prompt.format(input=\"addition,subtraction,multiply\"))"
   ]
  }
 ],
 "metadata": {
  "kernelspec": {
   "display_name": "Python 3",
   "language": "python",
   "name": "python3"
  },
  "language_info": {
   "codemirror_mode": {
    "name": "ipython",
    "version": 3
   },
   "file_extension": ".py",
   "mimetype": "text/x-python",
   "name": "python",
   "nbconvert_exporter": "python",
   "pygments_lexer": "ipython3",
   "version": "3.11.7"
  }
 },
 "nbformat": 4,
 "nbformat_minor": 2
}
