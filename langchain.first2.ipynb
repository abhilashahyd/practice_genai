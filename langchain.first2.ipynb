{
 "cells": [
  {
   "cell_type": "code",
   "execution_count": 1,
   "metadata": {},
   "outputs": [],
   "source": [
    "from dotenv import load_dotenv\n",
    "import os\n",
    "import openai\n",
    "openai.api_key = os.environ[\"OPENAI_API_KEY\"]"
   ]
  },
  {
   "cell_type": "code",
   "execution_count": 12,
   "metadata": {},
   "outputs": [],
   "source": [
    "class ConversationBufferMemory:\n",
    "    def __init__(self):\n",
    "        self.messages = []\n",
    "\n",
    "    def add_user_message(self, message):\n",
    "        self.messages.append(f\"User: {message}\")\n",
    "\n",
    "    def add_bot_message(self, message):\n",
    "        self.messages.append(f\"Bot: {message}\")\n",
    "\n",
    "    def get_context(self):\n",
    "        return \" \".join(self.messages)\n"
   ]
  },
  {
   "cell_type": "code",
   "execution_count": 13,
   "metadata": {},
   "outputs": [],
   "source": [
    "class ConversationChain:\n",
    "    def __init__(self, memory):\n",
    "        self.memory = memory\n",
    "\n",
    "    def respond(self, user_input):\n",
    "        # Add the user's message to memory\n",
    "        self.memory.add_user_message(user_input)\n",
    "\n",
    "        # Generate a response considering previous messages\n",
    "        context = self.memory.get_context()\n",
    "        bot_response = self.generate_response(context)\n",
    "\n",
    "        # Add the bot's response to memory\n",
    "        self.memory.add_bot_message(bot_response)\n",
    "\n",
    "        return bot_response\n",
    "\n",
    "    def generate_response(self, context):\n",
    "        # Placeholder for response generation logic\n",
    "        if \"hello\" in context.lower():\n",
    "            return \"Hello! How can I assist you today?\"\n",
    "        elif \"how are you\" in context.lower():\n",
    "            return \"I'm just a program, but I'm here to help you!\"\n",
    "        else:\n",
    "            return \"Tell me more about what you need.\"\n"
   ]
  },
  {
   "cell_type": "code",
   "execution_count": 14,
   "metadata": {},
   "outputs": [
    {
     "name": "stdout",
     "output_type": "stream",
     "text": [
      "User: Hello\n",
      "Bot: Hello! How can I assist you today?\n",
      "User: How are you?\n",
      "Bot: Hello! How can I assist you today?\n",
      "User: Can you tell me a joke?\n",
      "Bot: Hello! How can I assist you today?\n",
      "User: What is the weather like today?\n",
      "Bot: Hello! How can I assist you today?\n"
     ]
    }
   ],
   "source": [
    "def simulate_conversation():\n",
    "    memory = ConversationBufferMemory()\n",
    "    conversation = ConversationChain(memory)\n",
    "\n",
    "    # Simulating multiple user inputs\n",
    "    user_inputs = [\n",
    "        \"Hello\",\n",
    "        \"How are you?\",\n",
    "        \"Can you tell me a joke?\",\n",
    "        \"What is the weather like today?\"\n",
    "    ]\n",
    "\n",
    "    for user_input in user_inputs:\n",
    "        response = conversation.respond(user_input)\n",
    "        print(f\"User: {user_input}\")\n",
    "        print(f\"Bot: {response}\")\n",
    "\n",
    "simulate_conversation()\n"
   ]
  }
 ],
 "metadata": {
  "kernelspec": {
   "display_name": "Python 3",
   "language": "python",
   "name": "python3"
  },
  "language_info": {
   "codemirror_mode": {
    "name": "ipython",
    "version": 3
   },
   "file_extension": ".py",
   "mimetype": "text/x-python",
   "name": "python",
   "nbconvert_exporter": "python",
   "pygments_lexer": "ipython3",
   "version": "3.11.7"
  }
 },
 "nbformat": 4,
 "nbformat_minor": 2
}
