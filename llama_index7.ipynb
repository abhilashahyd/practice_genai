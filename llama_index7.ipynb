{
 "cells": [
  {
   "cell_type": "markdown",
   "metadata": {},
   "source": [
    "Sub Question Query Engine\n"
   ]
  },
  {
   "cell_type": "code",
   "execution_count": 7,
   "metadata": {},
   "outputs": [],
   "source": [
    "from dotenv import load_dotenv\n",
    "import os\n",
    "load_dotenv()\n",
    "api_key = os.environ[\"OPENAI_API_KEY\"]"
   ]
  },
  {
   "cell_type": "code",
   "execution_count": 13,
   "metadata": {},
   "outputs": [],
   "source": [
    "from llama_index.core import VectorStoreIndex, SimpleDirectoryReader\n",
    "from llama_index.core.tools import QueryEngineTool, ToolMetadata\n",
    "from llama_index.core.query_engine import SubQuestionQueryEngine\n",
    "from llama_index.core.callbacks import CallbackManager, LlamaDebugHandler\n",
    "from llama_index.core import Settings"
   ]
  },
  {
   "cell_type": "code",
   "execution_count": 14,
   "metadata": {},
   "outputs": [],
   "source": [
    "# Using the LlamaDebugHandler to print the trace of the sub questions\n",
    "# captured by the SUB_QUESTION callback event type\n",
    "llama_debug = LlamaDebugHandler(print_trace_on_end=True)\n",
    "callback_manager = CallbackManager([llama_debug])\n",
    "\n",
    "Settings.callback_manager = callback_manager"
   ]
  },
  {
   "cell_type": "code",
   "execution_count": 15,
   "metadata": {},
   "outputs": [
    {
     "name": "stdout",
     "output_type": "stream",
     "text": [
      "**********\n",
      "Trace: index_construction\n",
      "    |_CBEventType.EMBEDDING -> 3.440705 seconds\n",
      "    |_CBEventType.EMBEDDING -> 3.44502 seconds\n",
      "**********\n"
     ]
    }
   ],
   "source": [
    "# load data\n",
    "pg_essay = SimpleDirectoryReader(input_dir=\"data\").load_data()\n",
    "\n",
    "# build index and query engine\n",
    "vector_query_engine = VectorStoreIndex.from_documents(\n",
    "    pg_essay,\n",
    "    use_async=True,\n",
    ").as_query_engine()"
   ]
  },
  {
   "cell_type": "code",
   "execution_count": 16,
   "metadata": {},
   "outputs": [],
   "source": [
    "# setup base query engine as tool\n",
    "query_engine_tools = [\n",
    "    QueryEngineTool(\n",
    "        query_engine=vector_query_engine,\n",
    "        metadata=ToolMetadata(\n",
    "            name=\"pg_essay\",\n",
    "            description=\"Paul Graham essay on What I Worked On\",\n",
    "        ),\n",
    "    ),\n",
    "]\n",
    "\n",
    "query_engine = SubQuestionQueryEngine.from_defaults(\n",
    "    query_engine_tools=query_engine_tools,\n",
    "    use_async=True,\n",
    ")"
   ]
  },
  {
   "cell_type": "code",
   "execution_count": 21,
   "metadata": {},
   "outputs": [
    {
     "name": "stdout",
     "output_type": "stream",
     "text": [
      "Generated 1 sub questions.\n",
      "\u001b[1;3;38;2;237;90;200m[pg_essay] Q: What are the risk factors discussed in Paul Graham's essay on What I Worked On?\n",
      "\u001b[0m\u001b[1;3;38;2;237;90;200m[pg_essay] A: The risk factors discussed in Paul Graham's essay on \"What I Worked On\" are not provided in the context information.\n",
      "\u001b[0m**********\n",
      "Trace: query\n",
      "    |_CBEventType.QUERY -> 2.805887 seconds\n",
      "      |_CBEventType.LLM -> 0.805158 seconds\n",
      "      |_CBEventType.SUB_QUESTION -> 1.373905 seconds\n",
      "        |_CBEventType.QUERY -> 1.362989 seconds\n",
      "          |_CBEventType.RETRIEVE -> 0.67959 seconds\n",
      "            |_CBEventType.EMBEDDING -> 0.67959 seconds\n",
      "          |_CBEventType.SYNTHESIZE -> 0.683399 seconds\n",
      "            |_CBEventType.TEMPLATING -> 0.0 seconds\n",
      "            |_CBEventType.LLM -> 0.668308 seconds\n",
      "      |_CBEventType.SYNTHESIZE -> 0.622765 seconds\n",
      "        |_CBEventType.TEMPLATING -> 0.0 seconds\n",
      "        |_CBEventType.LLM -> 0.620755 seconds\n",
      "**********\n"
     ]
    }
   ],
   "source": [
    "response = query_engine.query(\n",
    "    \"Risk Factors\"\n",
    ")"
   ]
  },
  {
   "cell_type": "code",
   "execution_count": 22,
   "metadata": {},
   "outputs": [
    {
     "data": {
      "text/plain": [
       "Response(response='The risk factors discussed in Paul Graham\\'s essay on \"What I Worked On\" are not provided in the context information.', source_nodes=[NodeWithScore(node=TextNode(id_='654ee162-d3c6-4897-81ba-ebde471b7e53', embedding=None, metadata={}, excluded_embed_metadata_keys=[], excluded_llm_metadata_keys=[], relationships={}, metadata_template='{key}: {value}', metadata_separator='\\n', text='Sub question: What are the risk factors discussed in Paul Graham\\'s essay on What I Worked On?\\nResponse: The risk factors discussed in Paul Graham\\'s essay on \"What I Worked On\" are not provided in the context information.', mimetype='text/plain', start_char_idx=None, end_char_idx=None, metadata_seperator='\\n', text_template='{metadata_str}\\n\\n{content}'), score=None), NodeWithScore(node=TextNode(id_='88ee26ef-9f5e-4cee-ae4b-bd6e09f28737', embedding=None, metadata={'page_label': '11', 'file_name': 'form10-k.pdf', 'file_path': 'c:\\\\Users\\\\Nanhi Deo\\\\Desktop\\\\LangchainRag\\\\data\\\\form10-k.pdf', 'file_type': 'application/pdf', 'file_size': 616562, 'creation_date': '2024-11-27', 'last_modified_date': '2024-11-27'}, excluded_embed_metadata_keys=['file_name', 'file_type', 'file_size', 'creation_date', 'last_modified_date', 'last_accessed_date'], excluded_llm_metadata_keys=['file_name', 'file_type', 'file_size', 'creation_date', 'last_modified_date', 'last_accessed_date'], relationships={<NodeRelationship.SOURCE: '1'>: RelatedNodeInfo(node_id='d7fd6972-e712-4bad-996a-7cc271dda0e7', node_type='4', metadata={'page_label': '11', 'file_name': 'form10-k.pdf', 'file_path': 'c:\\\\Users\\\\Nanhi Deo\\\\Desktop\\\\LangchainRag\\\\data\\\\form10-k.pdf', 'file_type': 'application/pdf', 'file_size': 616562, 'creation_date': '2024-11-27', 'last_modified_date': '2024-11-27'}, hash='87522bf8ef6b0b26d044c14f50d5db4eb33f38e94d37cd022b8271561b43c677')}, metadata_template='{key}: {value}', metadata_separator='\\n', text='11 of 19 \\nPART I \\n[See General Instruction G(2)] \\nItem 1. Business. \\nFurnish the information required by Item 101 of Regulation S-K (§ 229.101 of this chapter) \\nexcept that the discussion of the development of the registrant’s business need only include \\ndevelopments since the beginning of the fiscal year for which this report is filed. \\nItem 1A. Risk Factors. \\nSet forth, under the caption “Risk Factors,” where appropriate, the risk factors described in \\nItem 105 of Regulation S-K (§ 229.105 of this chapter) applicable to the registrant. Provide any \\ndiscussion of risk factors in plain English in accordance with Rule 421(d) of the Securities Act of \\n1933 (§ 230.421(d) of this chapter). Smaller reporting companies are not required to provide the \\ninformation required by this item. \\nItem 1B. Unresolved Staﬀ Comments. \\nIf the registrant is an accelerated filer or a large accelerated filer, as defined in Rule 12b-2 \\nof the Exchange Act (§ 240.12b-2 of this chapter), or is a well-known seasoned issuer as defined \\nin Rule 405 of the Securities Act (§ 230.405 of this chapter) and has received written comments \\nfrom the Commission staﬀ regarding its periodic or current reports under the Act not less than \\n180 days before the end of its fiscal year to which the annual report relates, and such comments \\nremain unresolved, disclose the substance of any such unresolved comments that the registrant \\nbelieves are material. Such disclosure may provide other information including the position of \\nthe registrant with respect to any such comment. \\nItem 1C. Cybersecurity. \\n(a) Furnish the information required by Item 106 of Regulation S-K (§ 229.106 of this \\nchapter). \\nItem 2. Properties. \\nFurnish the information required by Item 102 of Regulation S-K (§ 229.102 of this chapter). \\nItem 3. Legal Proceedings. \\n(a) Furnish the information required by Item 103 of Regulation S-K (§ 229.103 of this \\nchapter). \\n(b) As to any proceeding that was terminated during the fourth quarter of the fiscal year \\ncovered by this report, furnish information similar to that required by Item 103 of \\nRegulation S-K (§ 229.103 of this chapter), including the date of termination and a \\ndescription of the disposition thereof with respect to the registrant and its subsidiaries.', mimetype='text/plain', start_char_idx=0, end_char_idx=2271, metadata_seperator='\\n', text_template='{metadata_str}\\n\\n{content}'), score=0.7412222212099929), NodeWithScore(node=TextNode(id_='ed877f32-c421-4978-9845-d9afb5dc454d', embedding=None, metadata={'page_label': '3', 'file_name': 'ADV PYTHON.pdf', 'file_path': 'c:\\\\Users\\\\Nanhi Deo\\\\Desktop\\\\LangchainRag\\\\data\\\\ADV PYTHON.pdf', 'file_type': 'application/pdf', 'file_size': 1873460, 'creation_date': '2024-12-02', 'last_modified_date': '2024-06-10'}, excluded_embed_metadata_keys=['file_name', 'file_type', 'file_size', 'creation_date', 'last_modified_date', 'last_accessed_date'], excluded_llm_metadata_keys=['file_name', 'file_type', 'file_size', 'creation_date', 'last_modified_date', 'last_accessed_date'], relationships={<NodeRelationship.SOURCE: '1'>: RelatedNodeInfo(node_id='d13fb20e-04c5-4de5-a239-5a00af273e81', node_type='4', metadata={'page_label': '3', 'file_name': 'ADV PYTHON.pdf', 'file_path': 'c:\\\\Users\\\\Nanhi Deo\\\\Desktop\\\\LangchainRag\\\\data\\\\ADV PYTHON.pdf', 'file_type': 'application/pdf', 'file_size': 1873460, 'creation_date': '2024-12-02', 'last_modified_date': '2024-06-10'}, hash='db4a23eb3664c51b0199572b6ee7358a6c0bb94771ce3f1702b4f547ac995dcf')}, metadata_template='{key}: {value}', metadata_separator='\\n', text='MOHAN S.REDDY \\n \\nPage 2 of 117 \\n \\nSyntactical errors: ..................................................................................................... 37 \\nRuntime errors: ......................................................................................................... 37 \\nException handling mechanism: .............................................................................. 37 \\nTypes of except blocks: ..............................................................................................40 \\nTypes of exceptions: .................................................................................................. 46 \\nFile Handling: ............................................................................................................... 48 \\nTypes of Files: ............................................................................................................ 48 \\nOpening a File: .......................................................................................................... 48 \\nFile Modes: ................................................................................................................ 49 \\nClosing a File: ............................................................................................................ 49 \\nProperties of File Object: .......................................................................................... 50 \\nZipping and Unzipping Files: ....................................................................................... 55 \\nWorking with CSV Files: .............................................................................................. 57 \\nPickling and unpickling: ............................................................................................... 58 \\nRegular Expressions: .................................................................................................... 59 \\nCharacter classes: .........................................................................................................60 \\nPre-defined Character classes: .................................................................................. 61 \\nQuantifiers: ................................................................................................................ 61 \\nPDBC (Python Database Connectivity): ...................................................................... 68 \\nWorking with MySQL:.................................................................................................. 70 \\nDecorator Functions: ................................................................................................... 79 \\nGenerator Functions: ................................................................................................... 81 \\nYield keyword: .............................................................................................................. 83 \\nAssertions: .................................................................................................................... 84 \\nLogging in python: ....................................................................................................... 86 \\nLogging levels: ........................................................................................................... 86 \\nPackages in python: ...................................................................................................... 89 \\nAccessing modules from package: ............................................................................ 89 \\nMulti-Threading in python: ......................................................................................... 95 \\nThe ways of creating threads in python: ................................................................... 99 \\nCreating a thread by extending a thread class ........................................................ 100 \\nThread Synchronization: ............................................................................................ 105 \\nWorking with pandas: ................................................................................................ 110 \\nWorking with Matplotlib: ............................................................................................ 114', mimetype='text/plain', start_char_idx=134, end_char_idx=4366, metadata_seperator='\\n', text_template='{metadata_str}\\n\\n{content}'), score=0.7269928593183808)], metadata={'654ee162-d3c6-4897-81ba-ebde471b7e53': {}, '88ee26ef-9f5e-4cee-ae4b-bd6e09f28737': {'page_label': '11', 'file_name': 'form10-k.pdf', 'file_path': 'c:\\\\Users\\\\Nanhi Deo\\\\Desktop\\\\LangchainRag\\\\data\\\\form10-k.pdf', 'file_type': 'application/pdf', 'file_size': 616562, 'creation_date': '2024-11-27', 'last_modified_date': '2024-11-27'}, 'ed877f32-c421-4978-9845-d9afb5dc454d': {'page_label': '3', 'file_name': 'ADV PYTHON.pdf', 'file_path': 'c:\\\\Users\\\\Nanhi Deo\\\\Desktop\\\\LangchainRag\\\\data\\\\ADV PYTHON.pdf', 'file_type': 'application/pdf', 'file_size': 1873460, 'creation_date': '2024-12-02', 'last_modified_date': '2024-06-10'}})"
      ]
     },
     "execution_count": 22,
     "metadata": {},
     "output_type": "execute_result"
    }
   ],
   "source": [
    "response"
   ]
  },
  {
   "cell_type": "code",
   "execution_count": 23,
   "metadata": {},
   "outputs": [
    {
     "data": {
      "text/markdown": [
       "The risk factors discussed in Paul Graham's essay on \"What I Worked On\" are not provided in the context information."
      ],
      "text/plain": [
       "<IPython.core.display.Markdown object>"
      ]
     },
     "metadata": {},
     "output_type": "display_data"
    }
   ],
   "source": [
    "from IPython.display import Markdown , display\n",
    "display(Markdown(f\"{response}\"))"
   ]
  }
 ],
 "metadata": {
  "kernelspec": {
   "display_name": "Python 3",
   "language": "python",
   "name": "python3"
  },
  "language_info": {
   "codemirror_mode": {
    "name": "ipython",
    "version": 3
   },
   "file_extension": ".py",
   "mimetype": "text/x-python",
   "name": "python",
   "nbconvert_exporter": "python",
   "pygments_lexer": "ipython3",
   "version": "3.11.7"
  }
 },
 "nbformat": 4,
 "nbformat_minor": 2
}
