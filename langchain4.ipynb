{
 "cells": [
  {
   "cell_type": "code",
   "execution_count": 18,
   "metadata": {},
   "outputs": [
    {
     "name": "stdout",
     "output_type": "stream",
     "text": [
      "{'restaurant': 'India Bistro', 'menu_items': 'Pasta, Salad, Dessert'}\n"
     ]
    }
   ],
   "source": [
    "response = generate_restaurant_name_and_items(cuisine)\n",
    "print(response)  # Add this line to see what the response contains\n"
   ]
  },
  {
   "cell_type": "code",
   "execution_count": 19,
   "metadata": {},
   "outputs": [],
   "source": [
    "def generate_restaurant_name_and_items(cuisine):\n",
    "    # Example logic to generate a restaurant name and menu items\n",
    "    if cuisine:\n",
    "        restaurant = f\"{cuisine} Bistro\"\n",
    "        menu_items = \"Pasta, Salad, Dessert\"\n",
    "        return {'restaurant': restaurant, 'menu_items': menu_items}\n",
    "    else:\n",
    "        return {'restaurant': \"Unknown\", 'menu_items': \"\"}\n"
   ]
  },
  {
   "cell_type": "code",
   "execution_count": 20,
   "metadata": {},
   "outputs": [
    {
     "name": "stderr",
     "output_type": "stream",
     "text": [
      "2024-10-15 13:23:14.867 Thread 'MainThread': missing ScriptRunContext! This warning can be ignored when running in bare mode.\n",
      "2024-10-15 13:23:14.868 Thread 'MainThread': missing ScriptRunContext! This warning can be ignored when running in bare mode.\n",
      "2024-10-15 13:23:14.870 Thread 'MainThread': missing ScriptRunContext! This warning can be ignored when running in bare mode.\n",
      "2024-10-15 13:23:14.871 Thread 'MainThread': missing ScriptRunContext! This warning can be ignored when running in bare mode.\n",
      "2024-10-15 13:23:14.871 Thread 'MainThread': missing ScriptRunContext! This warning can be ignored when running in bare mode.\n",
      "2024-10-15 13:23:14.871 Thread 'MainThread': missing ScriptRunContext! This warning can be ignored when running in bare mode.\n"
     ]
    }
   ],
   "source": [
    "if cuisine:\n",
    "    response = generate_restaurant_name_and_items(cuisine)\n",
    "    st.header(response.get('restaurant', \"No restaurant found\"))\n",
    "    menu_items = response.get('menu_items', \"\").split(\",\")\n",
    "    st.write(\"**Menu Items:**\")\n"
   ]
  },
  {
   "cell_type": "code",
   "execution_count": 21,
   "metadata": {},
   "outputs": [
    {
     "name": "stderr",
     "output_type": "stream",
     "text": [
      "2024-10-15 13:23:22.463 Thread 'MainThread': missing ScriptRunContext! This warning can be ignored when running in bare mode.\n",
      "2024-10-15 13:23:22.465 Thread 'MainThread': missing ScriptRunContext! This warning can be ignored when running in bare mode.\n",
      "2024-10-15 13:23:22.466 Thread 'MainThread': missing ScriptRunContext! This warning can be ignored when running in bare mode.\n",
      "2024-10-15 13:23:22.467 Thread 'MainThread': missing ScriptRunContext! This warning can be ignored when running in bare mode.\n",
      "2024-10-15 13:23:22.467 Thread 'MainThread': missing ScriptRunContext! This warning can be ignored when running in bare mode.\n",
      "2024-10-15 13:23:22.468 Thread 'MainThread': missing ScriptRunContext! This warning can be ignored when running in bare mode.\n"
     ]
    }
   ],
   "source": [
    "try:\n",
    "    if cuisine:\n",
    "        response = generate_restaurant_name_and_items(cuisine)\n",
    "        st.header(response['restaurant'])\n",
    "        menu_items = response['menu_items'].split(\",\")\n",
    "        st.write(\"**Menu Items:**\")\n",
    "except KeyError as e:\n",
    "    st.error(f\"Error: Missing key {e} in the response.\")\n"
   ]
  }
 ],
 "metadata": {
  "kernelspec": {
   "display_name": "Python 3",
   "language": "python",
   "name": "python3"
  },
  "language_info": {
   "codemirror_mode": {
    "name": "ipython",
    "version": 3
   },
   "file_extension": ".py",
   "mimetype": "text/x-python",
   "name": "python",
   "nbconvert_exporter": "python",
   "pygments_lexer": "ipython3",
   "version": "3.11.7"
  }
 },
 "nbformat": 4,
 "nbformat_minor": 2
}
