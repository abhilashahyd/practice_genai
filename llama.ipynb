{
 "cells": [
  {
   "cell_type": "code",
   "execution_count": 1,
   "metadata": {},
   "outputs": [],
   "source": [
    "from dotenv import load_dotenv\n",
    "import os \n",
    "load_dotenv()\n",
    "api_key = os.environ['OPENAI_API_KEY']"
   ]
  },
  {
   "cell_type": "code",
   "execution_count": 21,
   "metadata": {},
   "outputs": [
    {
     "name": "stdout",
     "output_type": "stream",
     "text": [
      "Defaulting to user installation because normal site-packages is not writeable\n",
      "Collecting langchain-experimental\n",
      "  Downloading langchain_experimental-0.3.2-py3-none-any.whl.metadata (1.7 kB)\n",
      "Requirement already satisfied: langchain-community<0.4.0,>=0.3.0 in c:\\users\\nanhi deo\\appdata\\roaming\\python\\python311\\site-packages (from langchain-experimental) (0.3.1)\n",
      "Requirement already satisfied: langchain-core<0.4.0,>=0.3.6 in c:\\users\\nanhi deo\\appdata\\roaming\\python\\python311\\site-packages (from langchain-experimental) (0.3.10)\n",
      "Requirement already satisfied: PyYAML>=5.3 in c:\\users\\nanhi deo\\appdata\\roaming\\python\\python311\\site-packages (from langchain-community<0.4.0,>=0.3.0->langchain-experimental) (6.0.2)\n",
      "Requirement already satisfied: SQLAlchemy<3,>=1.4 in c:\\users\\nanhi deo\\appdata\\roaming\\python\\python311\\site-packages (from langchain-community<0.4.0,>=0.3.0->langchain-experimental) (2.0.35)\n",
      "Requirement already satisfied: aiohttp<4.0.0,>=3.8.3 in c:\\users\\nanhi deo\\appdata\\roaming\\python\\python311\\site-packages (from langchain-community<0.4.0,>=0.3.0->langchain-experimental) (3.10.8)\n",
      "Requirement already satisfied: dataclasses-json<0.7,>=0.5.7 in c:\\users\\nanhi deo\\appdata\\roaming\\python\\python311\\site-packages (from langchain-community<0.4.0,>=0.3.0->langchain-experimental) (0.6.7)\n",
      "Requirement already satisfied: langchain<0.4.0,>=0.3.1 in c:\\users\\nanhi deo\\appdata\\roaming\\python\\python311\\site-packages (from langchain-community<0.4.0,>=0.3.0->langchain-experimental) (0.3.3)\n",
      "Requirement already satisfied: langsmith<0.2.0,>=0.1.125 in c:\\users\\nanhi deo\\appdata\\roaming\\python\\python311\\site-packages (from langchain-community<0.4.0,>=0.3.0->langchain-experimental) (0.1.131)\n",
      "Requirement already satisfied: numpy<2,>=1 in c:\\users\\nanhi deo\\appdata\\roaming\\python\\python311\\site-packages (from langchain-community<0.4.0,>=0.3.0->langchain-experimental) (1.26.4)\n",
      "Requirement already satisfied: pydantic-settings<3.0.0,>=2.4.0 in c:\\users\\nanhi deo\\appdata\\roaming\\python\\python311\\site-packages (from langchain-community<0.4.0,>=0.3.0->langchain-experimental) (2.5.2)\n",
      "Requirement already satisfied: requests<3,>=2 in c:\\users\\nanhi deo\\appdata\\roaming\\python\\python311\\site-packages (from langchain-community<0.4.0,>=0.3.0->langchain-experimental) (2.32.3)\n",
      "Requirement already satisfied: tenacity!=8.4.0,<9.0.0,>=8.1.0 in c:\\users\\nanhi deo\\appdata\\roaming\\python\\python311\\site-packages (from langchain-community<0.4.0,>=0.3.0->langchain-experimental) (8.5.0)\n",
      "Requirement already satisfied: jsonpatch<2.0,>=1.33 in c:\\users\\nanhi deo\\appdata\\roaming\\python\\python311\\site-packages (from langchain-core<0.4.0,>=0.3.6->langchain-experimental) (1.33)\n",
      "Requirement already satisfied: packaging<25,>=23.2 in c:\\users\\nanhi deo\\appdata\\roaming\\python\\python311\\site-packages (from langchain-core<0.4.0,>=0.3.6->langchain-experimental) (24.1)\n",
      "Requirement already satisfied: pydantic<3.0.0,>=2.5.2 in c:\\users\\nanhi deo\\appdata\\roaming\\python\\python311\\site-packages (from langchain-core<0.4.0,>=0.3.6->langchain-experimental) (2.9.2)\n",
      "Requirement already satisfied: typing-extensions>=4.7 in c:\\users\\nanhi deo\\appdata\\roaming\\python\\python311\\site-packages (from langchain-core<0.4.0,>=0.3.6->langchain-experimental) (4.12.2)\n",
      "Requirement already satisfied: aiohappyeyeballs>=2.3.0 in c:\\users\\nanhi deo\\appdata\\roaming\\python\\python311\\site-packages (from aiohttp<4.0.0,>=3.8.3->langchain-community<0.4.0,>=0.3.0->langchain-experimental) (2.4.3)\n",
      "Requirement already satisfied: aiosignal>=1.1.2 in c:\\users\\nanhi deo\\appdata\\roaming\\python\\python311\\site-packages (from aiohttp<4.0.0,>=3.8.3->langchain-community<0.4.0,>=0.3.0->langchain-experimental) (1.3.1)\n",
      "Requirement already satisfied: attrs>=17.3.0 in c:\\users\\nanhi deo\\appdata\\roaming\\python\\python311\\site-packages (from aiohttp<4.0.0,>=3.8.3->langchain-community<0.4.0,>=0.3.0->langchain-experimental) (24.2.0)\n",
      "Requirement already satisfied: frozenlist>=1.1.1 in c:\\users\\nanhi deo\\appdata\\roaming\\python\\python311\\site-packages (from aiohttp<4.0.0,>=3.8.3->langchain-community<0.4.0,>=0.3.0->langchain-experimental) (1.4.1)\n",
      "Requirement already satisfied: multidict<7.0,>=4.5 in c:\\users\\nanhi deo\\appdata\\roaming\\python\\python311\\site-packages (from aiohttp<4.0.0,>=3.8.3->langchain-community<0.4.0,>=0.3.0->langchain-experimental) (6.1.0)\n",
      "Requirement already satisfied: yarl<2.0,>=1.12.0 in c:\\users\\nanhi deo\\appdata\\roaming\\python\\python311\\site-packages (from aiohttp<4.0.0,>=3.8.3->langchain-community<0.4.0,>=0.3.0->langchain-experimental) (1.13.1)\n",
      "Requirement already satisfied: marshmallow<4.0.0,>=3.18.0 in c:\\users\\nanhi deo\\appdata\\roaming\\python\\python311\\site-packages (from dataclasses-json<0.7,>=0.5.7->langchain-community<0.4.0,>=0.3.0->langchain-experimental) (3.22.0)\n",
      "Requirement already satisfied: typing-inspect<1,>=0.4.0 in c:\\users\\nanhi deo\\appdata\\roaming\\python\\python311\\site-packages (from dataclasses-json<0.7,>=0.5.7->langchain-community<0.4.0,>=0.3.0->langchain-experimental) (0.9.0)\n",
      "Requirement already satisfied: jsonpointer>=1.9 in c:\\users\\nanhi deo\\appdata\\roaming\\python\\python311\\site-packages (from jsonpatch<2.0,>=1.33->langchain-core<0.4.0,>=0.3.6->langchain-experimental) (3.0.0)\n",
      "Requirement already satisfied: langchain-text-splitters<0.4.0,>=0.3.0 in c:\\users\\nanhi deo\\appdata\\roaming\\python\\python311\\site-packages (from langchain<0.4.0,>=0.3.1->langchain-community<0.4.0,>=0.3.0->langchain-experimental) (0.3.0)\n",
      "Requirement already satisfied: httpx<1,>=0.23.0 in c:\\users\\nanhi deo\\appdata\\roaming\\python\\python311\\site-packages (from langsmith<0.2.0,>=0.1.125->langchain-community<0.4.0,>=0.3.0->langchain-experimental) (0.27.2)\n",
      "Requirement already satisfied: orjson<4.0.0,>=3.9.14 in c:\\users\\nanhi deo\\appdata\\roaming\\python\\python311\\site-packages (from langsmith<0.2.0,>=0.1.125->langchain-community<0.4.0,>=0.3.0->langchain-experimental) (3.10.7)\n",
      "Requirement already satisfied: requests-toolbelt<2.0.0,>=1.0.0 in c:\\users\\nanhi deo\\appdata\\roaming\\python\\python311\\site-packages (from langsmith<0.2.0,>=0.1.125->langchain-community<0.4.0,>=0.3.0->langchain-experimental) (1.0.0)\n",
      "Requirement already satisfied: annotated-types>=0.6.0 in c:\\users\\nanhi deo\\appdata\\roaming\\python\\python311\\site-packages (from pydantic<3.0.0,>=2.5.2->langchain-core<0.4.0,>=0.3.6->langchain-experimental) (0.7.0)\n",
      "Requirement already satisfied: pydantic-core==2.23.4 in c:\\users\\nanhi deo\\appdata\\roaming\\python\\python311\\site-packages (from pydantic<3.0.0,>=2.5.2->langchain-core<0.4.0,>=0.3.6->langchain-experimental) (2.23.4)\n",
      "Requirement already satisfied: python-dotenv>=0.21.0 in c:\\users\\nanhi deo\\appdata\\roaming\\python\\python311\\site-packages (from pydantic-settings<3.0.0,>=2.4.0->langchain-community<0.4.0,>=0.3.0->langchain-experimental) (1.0.1)\n",
      "Requirement already satisfied: charset-normalizer<4,>=2 in c:\\users\\nanhi deo\\appdata\\roaming\\python\\python311\\site-packages (from requests<3,>=2->langchain-community<0.4.0,>=0.3.0->langchain-experimental) (3.3.2)\n",
      "Requirement already satisfied: idna<4,>=2.5 in c:\\users\\nanhi deo\\appdata\\roaming\\python\\python311\\site-packages (from requests<3,>=2->langchain-community<0.4.0,>=0.3.0->langchain-experimental) (3.10)\n",
      "Requirement already satisfied: urllib3<3,>=1.21.1 in c:\\users\\nanhi deo\\appdata\\roaming\\python\\python311\\site-packages (from requests<3,>=2->langchain-community<0.4.0,>=0.3.0->langchain-experimental) (2.2.3)\n",
      "Requirement already satisfied: certifi>=2017.4.17 in c:\\users\\nanhi deo\\appdata\\roaming\\python\\python311\\site-packages (from requests<3,>=2->langchain-community<0.4.0,>=0.3.0->langchain-experimental) (2024.8.30)\n",
      "Requirement already satisfied: greenlet!=0.4.17 in c:\\users\\nanhi deo\\appdata\\roaming\\python\\python311\\site-packages (from SQLAlchemy<3,>=1.4->langchain-community<0.4.0,>=0.3.0->langchain-experimental) (3.1.1)\n",
      "Requirement already satisfied: anyio in c:\\users\\nanhi deo\\appdata\\roaming\\python\\python311\\site-packages (from httpx<1,>=0.23.0->langsmith<0.2.0,>=0.1.125->langchain-community<0.4.0,>=0.3.0->langchain-experimental) (4.6.0)\n",
      "Requirement already satisfied: httpcore==1.* in c:\\users\\nanhi deo\\appdata\\roaming\\python\\python311\\site-packages (from httpx<1,>=0.23.0->langsmith<0.2.0,>=0.1.125->langchain-community<0.4.0,>=0.3.0->langchain-experimental) (1.0.5)\n",
      "Requirement already satisfied: sniffio in c:\\users\\nanhi deo\\appdata\\roaming\\python\\python311\\site-packages (from httpx<1,>=0.23.0->langsmith<0.2.0,>=0.1.125->langchain-community<0.4.0,>=0.3.0->langchain-experimental) (1.3.1)\n",
      "Requirement already satisfied: h11<0.15,>=0.13 in c:\\users\\nanhi deo\\appdata\\roaming\\python\\python311\\site-packages (from httpcore==1.*->httpx<1,>=0.23.0->langsmith<0.2.0,>=0.1.125->langchain-community<0.4.0,>=0.3.0->langchain-experimental) (0.14.0)\n",
      "Requirement already satisfied: mypy-extensions>=0.3.0 in c:\\users\\nanhi deo\\appdata\\roaming\\python\\python311\\site-packages (from typing-inspect<1,>=0.4.0->dataclasses-json<0.7,>=0.5.7->langchain-community<0.4.0,>=0.3.0->langchain-experimental) (1.0.0)\n",
      "Downloading langchain_experimental-0.3.2-py3-none-any.whl (208 kB)\n",
      "Installing collected packages: langchain-experimental\n",
      "Successfully installed langchain-experimental-0.3.2\n",
      "Note: you may need to restart the kernel to use updated packages.\n"
     ]
    }
   ],
   "source": [
    "pip install langchain-experimental"
   ]
  },
  {
   "cell_type": "code",
   "execution_count": 22,
   "metadata": {},
   "outputs": [
    {
     "name": "stdout",
     "output_type": "stream",
     "text": [
      "Defaulting to user installation because normal site-packages is not writeable\n",
      "Requirement already satisfied: langchain-cli in c:\\users\\nanhi deo\\appdata\\roaming\\python\\python311\\site-packages (0.0.31)\n",
      "Requirement already satisfied: gitpython<4.0.0,>=3.1.40 in c:\\users\\nanhi deo\\appdata\\roaming\\python\\python311\\site-packages (from langchain-cli) (3.1.43)\n",
      "Requirement already satisfied: gritql<0.2.0,>=0.1.1 in c:\\users\\nanhi deo\\appdata\\roaming\\python\\python311\\site-packages (from langchain-cli) (0.1.5)\n",
      "Requirement already satisfied: langserve>=0.0.51 in c:\\users\\nanhi deo\\appdata\\roaming\\python\\python311\\site-packages (from langserve[all]>=0.0.51->langchain-cli) (0.3.0)\n",
      "Collecting tomlkit<0.13.0,>=0.12.2 (from langchain-cli)\n",
      "  Using cached tomlkit-0.12.5-py3-none-any.whl.metadata (2.7 kB)\n",
      "Collecting typer<0.10.0,>=0.9.0 (from typer[all]<0.10.0,>=0.9.0->langchain-cli)\n",
      "  Using cached typer-0.9.4-py3-none-any.whl.metadata (14 kB)\n",
      "Requirement already satisfied: uvicorn<0.24.0,>=0.23.2 in c:\\users\\nanhi deo\\appdata\\roaming\\python\\python311\\site-packages (from langchain-cli) (0.23.2)\n",
      "Requirement already satisfied: gitdb<5,>=4.0.1 in c:\\users\\nanhi deo\\appdata\\roaming\\python\\python311\\site-packages (from gitpython<4.0.0,>=3.1.40->langchain-cli) (4.0.11)\n",
      "Requirement already satisfied: httpx<1.0,>=0.23.0 in c:\\users\\nanhi deo\\appdata\\roaming\\python\\python311\\site-packages (from langserve>=0.0.51->langserve[all]>=0.0.51->langchain-cli) (0.27.2)\n",
      "Requirement already satisfied: langchain-core<0.4,>=0.3 in c:\\users\\nanhi deo\\appdata\\roaming\\python\\python311\\site-packages (from langserve>=0.0.51->langserve[all]>=0.0.51->langchain-cli) (0.3.10)\n",
      "Requirement already satisfied: orjson<4,>=2 in c:\\users\\nanhi deo\\appdata\\roaming\\python\\python311\\site-packages (from langserve>=0.0.51->langserve[all]>=0.0.51->langchain-cli) (3.10.7)\n",
      "Requirement already satisfied: pydantic<3.0,>=2.7 in c:\\users\\nanhi deo\\appdata\\roaming\\python\\python311\\site-packages (from langserve>=0.0.51->langserve[all]>=0.0.51->langchain-cli) (2.9.2)\n",
      "Requirement already satisfied: fastapi<1,>=0.90.1 in c:\\users\\nanhi deo\\appdata\\roaming\\python\\python311\\site-packages (from langserve[all]>=0.0.51->langchain-cli) (0.115.0)\n",
      "Requirement already satisfied: sse-starlette<2.0.0,>=1.3.0 in c:\\users\\nanhi deo\\appdata\\roaming\\python\\python311\\site-packages (from langserve[all]>=0.0.51->langchain-cli) (1.8.2)\n",
      "Requirement already satisfied: click<9.0.0,>=7.1.1 in c:\\users\\nanhi deo\\appdata\\roaming\\python\\python311\\site-packages (from typer<0.10.0,>=0.9.0->typer[all]<0.10.0,>=0.9.0->langchain-cli) (8.1.7)\n",
      "Requirement already satisfied: typing-extensions>=3.7.4.3 in c:\\users\\nanhi deo\\appdata\\roaming\\python\\python311\\site-packages (from typer<0.10.0,>=0.9.0->typer[all]<0.10.0,>=0.9.0->langchain-cli) (4.12.2)\n",
      "Requirement already satisfied: colorama<0.5.0,>=0.4.3 in c:\\users\\nanhi deo\\appdata\\roaming\\python\\python311\\site-packages (from typer[all]<0.10.0,>=0.9.0->langchain-cli) (0.4.6)\n",
      "Requirement already satisfied: shellingham<2.0.0,>=1.3.0 in c:\\users\\nanhi deo\\appdata\\roaming\\python\\python311\\site-packages (from typer[all]<0.10.0,>=0.9.0->langchain-cli) (1.5.4)\n",
      "Requirement already satisfied: rich<14.0.0,>=10.11.0 in c:\\users\\nanhi deo\\appdata\\roaming\\python\\python311\\site-packages (from typer[all]<0.10.0,>=0.9.0->langchain-cli) (13.8.1)\n",
      "Requirement already satisfied: h11>=0.8 in c:\\users\\nanhi deo\\appdata\\roaming\\python\\python311\\site-packages (from uvicorn<0.24.0,>=0.23.2->langchain-cli) (0.14.0)\n",
      "Requirement already satisfied: starlette<0.39.0,>=0.37.2 in c:\\users\\nanhi deo\\appdata\\roaming\\python\\python311\\site-packages (from fastapi<1,>=0.90.1->langserve[all]>=0.0.51->langchain-cli) (0.38.6)\n",
      "Requirement already satisfied: smmap<6,>=3.0.1 in c:\\users\\nanhi deo\\appdata\\roaming\\python\\python311\\site-packages (from gitdb<5,>=4.0.1->gitpython<4.0.0,>=3.1.40->langchain-cli) (5.0.1)\n",
      "Requirement already satisfied: anyio in c:\\users\\nanhi deo\\appdata\\roaming\\python\\python311\\site-packages (from httpx<1.0,>=0.23.0->langserve>=0.0.51->langserve[all]>=0.0.51->langchain-cli) (4.6.0)\n",
      "Requirement already satisfied: certifi in c:\\users\\nanhi deo\\appdata\\roaming\\python\\python311\\site-packages (from httpx<1.0,>=0.23.0->langserve>=0.0.51->langserve[all]>=0.0.51->langchain-cli) (2024.8.30)\n",
      "Requirement already satisfied: httpcore==1.* in c:\\users\\nanhi deo\\appdata\\roaming\\python\\python311\\site-packages (from httpx<1.0,>=0.23.0->langserve>=0.0.51->langserve[all]>=0.0.51->langchain-cli) (1.0.5)\n",
      "Requirement already satisfied: idna in c:\\users\\nanhi deo\\appdata\\roaming\\python\\python311\\site-packages (from httpx<1.0,>=0.23.0->langserve>=0.0.51->langserve[all]>=0.0.51->langchain-cli) (3.10)\n",
      "Requirement already satisfied: sniffio in c:\\users\\nanhi deo\\appdata\\roaming\\python\\python311\\site-packages (from httpx<1.0,>=0.23.0->langserve>=0.0.51->langserve[all]>=0.0.51->langchain-cli) (1.3.1)\n",
      "Requirement already satisfied: PyYAML>=5.3 in c:\\users\\nanhi deo\\appdata\\roaming\\python\\python311\\site-packages (from langchain-core<0.4,>=0.3->langserve>=0.0.51->langserve[all]>=0.0.51->langchain-cli) (6.0.2)\n",
      "Requirement already satisfied: jsonpatch<2.0,>=1.33 in c:\\users\\nanhi deo\\appdata\\roaming\\python\\python311\\site-packages (from langchain-core<0.4,>=0.3->langserve>=0.0.51->langserve[all]>=0.0.51->langchain-cli) (1.33)\n",
      "Requirement already satisfied: langsmith<0.2.0,>=0.1.125 in c:\\users\\nanhi deo\\appdata\\roaming\\python\\python311\\site-packages (from langchain-core<0.4,>=0.3->langserve>=0.0.51->langserve[all]>=0.0.51->langchain-cli) (0.1.131)\n",
      "Requirement already satisfied: packaging<25,>=23.2 in c:\\users\\nanhi deo\\appdata\\roaming\\python\\python311\\site-packages (from langchain-core<0.4,>=0.3->langserve>=0.0.51->langserve[all]>=0.0.51->langchain-cli) (24.1)\n",
      "Requirement already satisfied: tenacity!=8.4.0,<9.0.0,>=8.1.0 in c:\\users\\nanhi deo\\appdata\\roaming\\python\\python311\\site-packages (from langchain-core<0.4,>=0.3->langserve>=0.0.51->langserve[all]>=0.0.51->langchain-cli) (8.5.0)\n",
      "Requirement already satisfied: annotated-types>=0.6.0 in c:\\users\\nanhi deo\\appdata\\roaming\\python\\python311\\site-packages (from pydantic<3.0,>=2.7->langserve>=0.0.51->langserve[all]>=0.0.51->langchain-cli) (0.7.0)\n",
      "Requirement already satisfied: pydantic-core==2.23.4 in c:\\users\\nanhi deo\\appdata\\roaming\\python\\python311\\site-packages (from pydantic<3.0,>=2.7->langserve>=0.0.51->langserve[all]>=0.0.51->langchain-cli) (2.23.4)\n",
      "Requirement already satisfied: markdown-it-py>=2.2.0 in c:\\users\\nanhi deo\\appdata\\roaming\\python\\python311\\site-packages (from rich<14.0.0,>=10.11.0->typer[all]<0.10.0,>=0.9.0->langchain-cli) (3.0.0)\n",
      "Requirement already satisfied: pygments<3.0.0,>=2.13.0 in c:\\users\\nanhi deo\\appdata\\roaming\\python\\python311\\site-packages (from rich<14.0.0,>=10.11.0->typer[all]<0.10.0,>=0.9.0->langchain-cli) (2.18.0)\n",
      "Requirement already satisfied: jsonpointer>=1.9 in c:\\users\\nanhi deo\\appdata\\roaming\\python\\python311\\site-packages (from jsonpatch<2.0,>=1.33->langchain-core<0.4,>=0.3->langserve>=0.0.51->langserve[all]>=0.0.51->langchain-cli) (3.0.0)\n",
      "Requirement already satisfied: requests<3,>=2 in c:\\users\\nanhi deo\\appdata\\roaming\\python\\python311\\site-packages (from langsmith<0.2.0,>=0.1.125->langchain-core<0.4,>=0.3->langserve>=0.0.51->langserve[all]>=0.0.51->langchain-cli) (2.32.3)\n",
      "Requirement already satisfied: requests-toolbelt<2.0.0,>=1.0.0 in c:\\users\\nanhi deo\\appdata\\roaming\\python\\python311\\site-packages (from langsmith<0.2.0,>=0.1.125->langchain-core<0.4,>=0.3->langserve>=0.0.51->langserve[all]>=0.0.51->langchain-cli) (1.0.0)\n",
      "Requirement already satisfied: mdurl~=0.1 in c:\\users\\nanhi deo\\appdata\\roaming\\python\\python311\\site-packages (from markdown-it-py>=2.2.0->rich<14.0.0,>=10.11.0->typer[all]<0.10.0,>=0.9.0->langchain-cli) (0.1.2)\n",
      "Requirement already satisfied: charset-normalizer<4,>=2 in c:\\users\\nanhi deo\\appdata\\roaming\\python\\python311\\site-packages (from requests<3,>=2->langsmith<0.2.0,>=0.1.125->langchain-core<0.4,>=0.3->langserve>=0.0.51->langserve[all]>=0.0.51->langchain-cli) (3.3.2)\n",
      "Requirement already satisfied: urllib3<3,>=1.21.1 in c:\\users\\nanhi deo\\appdata\\roaming\\python\\python311\\site-packages (from requests<3,>=2->langsmith<0.2.0,>=0.1.125->langchain-core<0.4,>=0.3->langserve>=0.0.51->langserve[all]>=0.0.51->langchain-cli) (2.2.3)\n",
      "Using cached tomlkit-0.12.5-py3-none-any.whl (37 kB)\n",
      "Using cached typer-0.9.4-py3-none-any.whl (45 kB)\n",
      "Installing collected packages: tomlkit, typer\n",
      "  Attempting uninstall: tomlkit\n",
      "    Found existing installation: tomlkit 0.12.0\n",
      "    Uninstalling tomlkit-0.12.0:\n",
      "      Successfully uninstalled tomlkit-0.12.0\n",
      "  Attempting uninstall: typer\n",
      "    Found existing installation: typer 0.12.5\n",
      "    Uninstalling typer-0.12.5:\n",
      "      Successfully uninstalled typer-0.12.5\n",
      "Successfully installed tomlkit-0.12.5 typer-0.9.4\n",
      "Note: you may need to restart the kernel to use updated packages.\n"
     ]
    },
    {
     "name": "stderr",
     "output_type": "stream",
     "text": [
      "ERROR: pip's dependency resolver does not currently take into account all the packages that are installed. This behaviour is the source of the following dependency conflicts.\n",
      "gradio 5.1.0 requires tomlkit==0.12.0, but you have tomlkit 0.12.5 which is incompatible.\n",
      "gradio 5.1.0 requires typer<1.0,>=0.12; sys_platform != \"emscripten\", but you have typer 0.9.4 which is incompatible.\n"
     ]
    }
   ],
   "source": [
    "pip install langchain-cli"
   ]
  }
 ],
 "metadata": {
  "kernelspec": {
   "display_name": "Python 3",
   "language": "python",
   "name": "python3"
  },
  "language_info": {
   "codemirror_mode": {
    "name": "ipython",
    "version": 3
   },
   "file_extension": ".py",
   "mimetype": "text/x-python",
   "name": "python",
   "nbconvert_exporter": "python",
   "pygments_lexer": "ipython3",
   "version": "3.11.7"
  }
 },
 "nbformat": 4,
 "nbformat_minor": 2
}
