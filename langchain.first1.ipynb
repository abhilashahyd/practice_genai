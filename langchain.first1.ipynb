{
 "cells": [
  {
   "cell_type": "code",
   "execution_count": 2,
   "metadata": {},
   "outputs": [],
   "source": [
    "from dotenv import load_dotenv\n",
    "import os\n",
    "load_dotenv()\n",
    "import openai\n",
    "\n",
    "# Set your OpenAI API key\n",
    "openai.api_key = os.environ['OPENAI_API_KEY']"
   ]
  },
  {
   "cell_type": "code",
   "execution_count": 2,
   "metadata": {},
   "outputs": [],
   "source": [
    "from langchain.prompts import PromptTemplate\n",
    "from langchain.chains import LLMChain, SimpleSequentialChain\n",
    "from langchain.llms import OpenAI\n"
   ]
  },
  {
   "cell_type": "code",
   "execution_count": 3,
   "metadata": {},
   "outputs": [],
   "source": [
    "summarization_template = PromptTemplate(\n",
    "    input_variables=['text'],\n",
    "    template=\"Please summarize the following text:\\n\\n{text}\\n\\nSummary:\"\n",
    ")"
   ]
  },
  {
   "cell_type": "code",
   "execution_count": 15,
   "metadata": {},
   "outputs": [],
   "source": [
    "# Translation template \n",
    "translation_template = PromptTemplate(\n",
    "    input_variables=['summary'],\n",
    "    template = \"Tranlate the following summary into French:\\n\\n{summary}\\n\\nFrench Translate:\"\n",
    ")"
   ]
  },
  {
   "cell_type": "code",
   "execution_count": 16,
   "metadata": {},
   "outputs": [],
   "source": [
    "llm = OpenAI(temperature=0.7)\n",
    "summarization_chain = LLMChain(\n",
    "    llm=llm,\n",
    "    prompt = translation_template\n",
    "\n",
    ")"
   ]
  },
  {
   "cell_type": "code",
   "execution_count": 17,
   "metadata": {},
   "outputs": [],
   "source": [
    "# LLMChain for translation\n",
    "translation_chain = LLMChain(\n",
    "    llm=llm,\n",
    "    prompt=translation_template\n",
    ")\n"
   ]
  },
  {
   "cell_type": "code",
   "execution_count": 18,
   "metadata": {},
   "outputs": [],
   "source": [
    "# Step 3: Combine the chains using SimpleSequentialChain\n",
    "combined_chain = SimpleSequentialChain(chains=[summarization_chain, translation_chain])"
   ]
  },
  {
   "cell_type": "code",
   "execution_count": 19,
   "metadata": {},
   "outputs": [],
   "source": [
    "# Step 4: Run the chain on a sample long text\n",
    "sample_text = \"\"\"In recent years, climate change has become a pressing global issue. \n",
    "Scientists warn that if immediate action is not taken to reduce carbon emissions, \n",
    "the effects will be catastrophic. Extreme weather events, rising sea levels, and \n",
    "threatened ecosystems are just a few consequences that we may face. \n",
    "It is crucial for individuals, governments, and organizations to work together to address this challenge.\"\"\""
   ]
  },
  {
   "cell_type": "code",
   "execution_count": 27,
   "metadata": {},
   "outputs": [],
   "source": [
    "final_result = combined_chain.run(sample_text)"
   ]
  },
  {
   "cell_type": "code",
   "execution_count": 28,
   "metadata": {},
   "outputs": [
    {
     "name": "stdout",
     "output_type": "stream",
     "text": [
      "\n",
      "\n",
      "Au cours des dernières années, le changement climatique est devenu un problème mondial croissant. Les scientifiques ont averti que si des mesures immédiates ne sont pas prises pour réduire les émissions de carbone, les conséquences pourraient être catastrophiques. Les événements météorologiques extrêmes, la montée des niveaux de la mer, \n"
     ]
    }
   ],
   "source": [
    "# Print the final translated summary\n",
    "print(final_result)"
   ]
  }
 ],
 "metadata": {
  "kernelspec": {
   "display_name": "Python 3",
   "language": "python",
   "name": "python3"
  },
  "language_info": {
   "codemirror_mode": {
    "name": "ipython",
    "version": 3
   },
   "file_extension": ".py",
   "mimetype": "text/x-python",
   "name": "python",
   "nbconvert_exporter": "python",
   "pygments_lexer": "ipython3",
   "version": "3.11.7"
  }
 },
 "nbformat": 4,
 "nbformat_minor": 2
}
