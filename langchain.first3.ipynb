{
 "cells": [
  {
   "cell_type": "code",
   "execution_count": 9,
   "metadata": {},
   "outputs": [],
   "source": [
    "class TextProcessor :\n",
    "    def __init__(self):\n",
    "        self.summarization_prompt = \"Please summarize the following text : {}\"\n",
    "        self.teanslation_prompt = \"Translate the following text to Spanish : {}\"\n",
    "\n",
    "    def summarized(self,text):\n",
    "        # Simulate Summarization (in practice , use a model or api)\n",
    "        return f\"Summary : {text[:50]}...\" # Placeholder summary\n",
    "    \n",
    "    def translate(self,text):\n",
    "        # simplate tranlation (in practice , use a model or api)\n",
    "        return f\"Translation to Spanish : {text}\"\n",
    "    \n",
    "    def process_text(self,text,action):\n",
    "        if action.lower() == \"summarize\" :\n",
    "            prompt = self.summarization_prompt.format(text)\n",
    "            return self.summarize(prompt)\n",
    "        \n",
    "        elif action.lower() == \"translate\":\n",
    "            prompt = self.translation_prompt .format(text)\n",
    "            return self.translate(prompt)\n",
    "        else :\n",
    "            return \"Invalid action . Please specify 'summarize' or 'translate' .\"\n",
    "\n"
   ]
  },
  {
   "cell_type": "code",
   "execution_count": 17,
   "metadata": {},
   "outputs": [
    {
     "name": "stdout",
     "output_type": "stream",
     "text": [
      "Summary: Please summarize the following text: Natural langu...\n",
      "Translation to Spanish: Translate the following text to Spanish: Natural language processing (NLP) is a field of artificial intelligence that focuses on the interaction between computers and humans through natural language.\n"
     ]
    }
   ],
   "source": [
    "# Testing the chain with both options\n",
    "\n",
    "text = \"Natural language processing (NLP) is a field of artificial intelligence that focuses on the interaction between computers and humans through natural language.\"\n",
    "\n",
    "processor = TextProcessor()\n",
    "\n",
    "# Test summarization\n",
    "summarized_result = processor.process_text(text, 'summarize')\n",
    "print(summarized_result)\n",
    "\n",
    "# Test translation\n",
    "translated_result = processor.process_text(text, 'translate')\n",
    "print(translated_result)\n"
   ]
  },
  {
   "cell_type": "code",
   "execution_count": null,
   "metadata": {},
   "outputs": [],
   "source": []
  }
 ],
 "metadata": {
  "kernelspec": {
   "display_name": "Python 3",
   "language": "python",
   "name": "python3"
  },
  "language_info": {
   "codemirror_mode": {
    "name": "ipython",
    "version": 3
   },
   "file_extension": ".py",
   "mimetype": "text/x-python",
   "name": "python",
   "nbconvert_exporter": "python",
   "pygments_lexer": "ipython3",
   "version": "3.11.7"
  }
 },
 "nbformat": 4,
 "nbformat_minor": 2
}
