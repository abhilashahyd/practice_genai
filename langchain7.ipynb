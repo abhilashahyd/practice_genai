{
 "cells": [
  {
   "cell_type": "code",
   "execution_count": 1,
   "metadata": {},
   "outputs": [],
   "source": [
    "from dotenv import load_dotenv\n",
    "load_dotenv()\n",
    "import os \n",
    "openapi_key = os.environ['OPENAI_API_KEY']"
   ]
  },
  {
   "cell_type": "code",
   "execution_count": 2,
   "metadata": {},
   "outputs": [],
   "source": [
    "from langchain_core.tools import tool\n",
    "\n",
    "@tool\n",
    "def add(a: int, b:int):\n",
    "    \"\"\"adds a and b .\n",
    "    Args : \n",
    "    a: first int\n",
    "    b : second int\n",
    "    \"\"\"\n",
    "\n",
    "    return a+b\n",
    "@tool\n",
    "def multiply(a:int , b:int):\n",
    "    \"\"\"Multiply a and b .\n",
    "    Args :\n",
    "    a: first int\n",
    "    b: second int\n",
    "    \"\"\"\n",
    "    return a*b\n",
    "tools = [add, multiply]"
   ]
  },
  {
   "cell_type": "code",
   "execution_count": 3,
   "metadata": {},
   "outputs": [],
   "source": [
    "from langchain_core.pydantic_v1 import BaseModel, Field\n",
    "\n",
    "class add(BaseModel):\n",
    "    \"\"\"Add .\"\"\"\n",
    "    a: int= Field(...,description='First integer :')\n",
    "    b: int= Field(..., descripthin=\"Second integer :\")\n",
    "\n",
    "\n",
    "class multiply(BaseModel):\n",
    "    \"\"\"Multiply .\"\"\"\n",
    "\n",
    "    a : int= Field(...,description=\"First integer :\")\n",
    "    b : int= Field(...,description=\"Second integer :\")\n",
    "    \n",
    "tools = [add , multiply]"
   ]
  },
  {
   "cell_type": "code",
   "execution_count": 4,
   "metadata": {},
   "outputs": [],
   "source": [
    "from langchain_openai import ChatOpenAI\n",
    "llm = ChatOpenAI(model='gpt-4o-mini')"
   ]
  },
  {
   "cell_type": "code",
   "execution_count": 5,
   "metadata": {},
   "outputs": [],
   "source": [
    "llm_with_tools = llm.bind_tools(tools)"
   ]
  },
  {
   "cell_type": "code",
   "execution_count": 6,
   "metadata": {},
   "outputs": [],
   "source": [
    "always_multiply_llm = llm.bind_tools([multiply], tool_choice=\"multiply\")"
   ]
  },
  {
   "cell_type": "code",
   "execution_count": 7,
   "metadata": {},
   "outputs": [],
   "source": [
    "always_call_tool_llm = llm.bind_tools([add, multiply], tool_choice=\"any\")"
   ]
  },
  {
   "cell_type": "code",
   "execution_count": 8,
   "metadata": {},
   "outputs": [
    {
     "data": {
      "text/plain": [
       "[{'name': 'multiply',\n",
       "  'args': {'a': 3, 'b': 12},\n",
       "  'id': 'call_PDfifRXseDqGwPkhMnRn3gR0',\n",
       "  'type': 'tool_call'},\n",
       " {'name': 'add',\n",
       "  'args': {'a': 11, 'b': 49},\n",
       "  'id': 'call_R196Rsz9z9XRekSr81p3IulF',\n",
       "  'type': 'tool_call'}]"
      ]
     },
     "execution_count": 8,
     "metadata": {},
     "output_type": "execute_result"
    }
   ],
   "source": [
    "query = \"What is 3 * 12? Also, what is 11 + 49?\"\n",
    "\n",
    "llm_with_tools.invoke(query).tool_calls"
   ]
  },
  {
   "cell_type": "code",
   "execution_count": 9,
   "metadata": {},
   "outputs": [
    {
     "data": {
      "text/plain": [
       "[multiply(a=3, b=12), add(a=11, b=49)]"
      ]
     },
     "execution_count": 9,
     "metadata": {},
     "output_type": "execute_result"
    }
   ],
   "source": [
    "from langchain_core.output_parsers.openai_tools import PydanticToolsParser\n",
    "\n",
    "chain = llm_with_tools | PydanticToolsParser(tools=[multiply, add])\n",
    "chain.invoke(query)"
   ]
  },
  {
   "cell_type": "code",
   "execution_count": 10,
   "metadata": {},
   "outputs": [
    {
     "name": "stdout",
     "output_type": "stream",
     "text": [
      "[]\n",
      "[{'name': 'multiply', 'args': '', 'id': 'call_9zNWn2gdUbSTc80LdvEiylrG', 'index': 0, 'type': 'tool_call_chunk'}]\n",
      "[{'name': None, 'args': '{\"a\"', 'id': None, 'index': 0, 'type': 'tool_call_chunk'}]\n",
      "[{'name': None, 'args': ': 3, ', 'id': None, 'index': 0, 'type': 'tool_call_chunk'}]\n",
      "[{'name': None, 'args': '\"b\": 1', 'id': None, 'index': 0, 'type': 'tool_call_chunk'}]\n",
      "[{'name': None, 'args': '2}', 'id': None, 'index': 0, 'type': 'tool_call_chunk'}]\n",
      "[{'name': 'add', 'args': '', 'id': 'call_crLjxaOW5BUyuxTOLsjQxJr5', 'index': 1, 'type': 'tool_call_chunk'}]\n",
      "[{'name': None, 'args': '{\"a\"', 'id': None, 'index': 1, 'type': 'tool_call_chunk'}]\n",
      "[{'name': None, 'args': ': 11,', 'id': None, 'index': 1, 'type': 'tool_call_chunk'}]\n",
      "[{'name': None, 'args': ' \"b\": ', 'id': None, 'index': 1, 'type': 'tool_call_chunk'}]\n",
      "[{'name': None, 'args': '49}', 'id': None, 'index': 1, 'type': 'tool_call_chunk'}]\n",
      "[]\n"
     ]
    }
   ],
   "source": [
    "async for chunk in llm_with_tools.astream(query):\n",
    "    print(chunk.tool_call_chunks)"
   ]
  },
  {
   "cell_type": "code",
   "execution_count": 11,
   "metadata": {},
   "outputs": [
    {
     "name": "stdout",
     "output_type": "stream",
     "text": [
      "[]\n",
      "[{'name': 'multiply', 'args': '', 'id': 'call_FutFqw9xyYnN7xRxdMyFCg2O', 'index': 0, 'type': 'tool_call_chunk'}]\n",
      "[{'name': 'multiply', 'args': '{\"a\"', 'id': 'call_FutFqw9xyYnN7xRxdMyFCg2O', 'index': 0, 'type': 'tool_call_chunk'}]\n",
      "[{'name': 'multiply', 'args': '{\"a\": 3, ', 'id': 'call_FutFqw9xyYnN7xRxdMyFCg2O', 'index': 0, 'type': 'tool_call_chunk'}]\n",
      "[{'name': 'multiply', 'args': '{\"a\": 3, \"b\": 1', 'id': 'call_FutFqw9xyYnN7xRxdMyFCg2O', 'index': 0, 'type': 'tool_call_chunk'}]\n",
      "[{'name': 'multiply', 'args': '{\"a\": 3, \"b\": 12}', 'id': 'call_FutFqw9xyYnN7xRxdMyFCg2O', 'index': 0, 'type': 'tool_call_chunk'}]\n",
      "[{'name': 'multiply', 'args': '{\"a\": 3, \"b\": 12}', 'id': 'call_FutFqw9xyYnN7xRxdMyFCg2O', 'index': 0, 'type': 'tool_call_chunk'}, {'name': 'add', 'args': '', 'id': 'call_fup8kkf6lQpnudEZwUUYD71W', 'index': 1, 'type': 'tool_call_chunk'}]\n",
      "[{'name': 'multiply', 'args': '{\"a\": 3, \"b\": 12}', 'id': 'call_FutFqw9xyYnN7xRxdMyFCg2O', 'index': 0, 'type': 'tool_call_chunk'}, {'name': 'add', 'args': '{\"a\"', 'id': 'call_fup8kkf6lQpnudEZwUUYD71W', 'index': 1, 'type': 'tool_call_chunk'}]\n",
      "[{'name': 'multiply', 'args': '{\"a\": 3, \"b\": 12}', 'id': 'call_FutFqw9xyYnN7xRxdMyFCg2O', 'index': 0, 'type': 'tool_call_chunk'}, {'name': 'add', 'args': '{\"a\": 11,', 'id': 'call_fup8kkf6lQpnudEZwUUYD71W', 'index': 1, 'type': 'tool_call_chunk'}]\n",
      "[{'name': 'multiply', 'args': '{\"a\": 3, \"b\": 12}', 'id': 'call_FutFqw9xyYnN7xRxdMyFCg2O', 'index': 0, 'type': 'tool_call_chunk'}, {'name': 'add', 'args': '{\"a\": 11, \"b\": ', 'id': 'call_fup8kkf6lQpnudEZwUUYD71W', 'index': 1, 'type': 'tool_call_chunk'}]\n",
      "[{'name': 'multiply', 'args': '{\"a\": 3, \"b\": 12}', 'id': 'call_FutFqw9xyYnN7xRxdMyFCg2O', 'index': 0, 'type': 'tool_call_chunk'}, {'name': 'add', 'args': '{\"a\": 11, \"b\": 49}', 'id': 'call_fup8kkf6lQpnudEZwUUYD71W', 'index': 1, 'type': 'tool_call_chunk'}]\n",
      "[{'name': 'multiply', 'args': '{\"a\": 3, \"b\": 12}', 'id': 'call_FutFqw9xyYnN7xRxdMyFCg2O', 'index': 0, 'type': 'tool_call_chunk'}, {'name': 'add', 'args': '{\"a\": 11, \"b\": 49}', 'id': 'call_fup8kkf6lQpnudEZwUUYD71W', 'index': 1, 'type': 'tool_call_chunk'}]\n"
     ]
    }
   ],
   "source": [
    "first = True\n",
    "\n",
    "async for chunk in llm_with_tools.astream(query):\n",
    "    if first:\n",
    "        gathered = chunk\n",
    "        first = False\n",
    "\n",
    "    else :\n",
    "        gathered = gathered + chunk\n",
    "\n",
    "    print(gathered.tool_call_chunks)"
   ]
  },
  {
   "cell_type": "code",
   "execution_count": 12,
   "metadata": {},
   "outputs": [
    {
     "name": "stdout",
     "output_type": "stream",
     "text": [
      "<class 'str'>\n"
     ]
    }
   ],
   "source": [
    "print(type(gathered.tool_call_chunks[0]['args']))"
   ]
  },
  {
   "cell_type": "code",
   "execution_count": 15,
   "metadata": {},
   "outputs": [
    {
     "name": "stdout",
     "output_type": "stream",
     "text": [
      "[{'name': 'multiplymultiply', 'args': {'a': 3, 'b': 12}, 'id': 'call_6LhRibqh52pMYWDp6f2Wfy4Qcall_erQMMzwDObuV2U6MOLDtjm9M', 'type': 'tool_call'}, {'name': 'addadd', 'args': {'a': 11, 'b': 49}, 'id': 'call_97bvpojgqDbKFkZqgwbtJiYdcall_ItCryAXXxJRg9y3U4ikGJq4j', 'type': 'tool_call'}]\n",
      "[{'name': 'multiplymultiplymultiply', 'args': {'a': 3, 'b': 12}, 'id': 'call_6LhRibqh52pMYWDp6f2Wfy4Qcall_erQMMzwDObuV2U6MOLDtjm9Mcall_Js6iWl6ZqnaOsqHxTfzPhm0p', 'type': 'tool_call'}, {'name': 'addadd', 'args': {'a': 11, 'b': 49}, 'id': 'call_97bvpojgqDbKFkZqgwbtJiYdcall_ItCryAXXxJRg9y3U4ikGJq4j', 'type': 'tool_call'}]\n",
      "[{'name': 'multiplymultiplymultiply', 'args': {'a': 3, 'b': 12}, 'id': 'call_6LhRibqh52pMYWDp6f2Wfy4Qcall_erQMMzwDObuV2U6MOLDtjm9Mcall_Js6iWl6ZqnaOsqHxTfzPhm0p', 'type': 'tool_call'}, {'name': 'addadd', 'args': {'a': 11, 'b': 49}, 'id': 'call_97bvpojgqDbKFkZqgwbtJiYdcall_ItCryAXXxJRg9y3U4ikGJq4j', 'type': 'tool_call'}]\n",
      "[{'name': 'multiplymultiplymultiply', 'args': {'a': 3, 'b': 12}, 'id': 'call_6LhRibqh52pMYWDp6f2Wfy4Qcall_erQMMzwDObuV2U6MOLDtjm9Mcall_Js6iWl6ZqnaOsqHxTfzPhm0p', 'type': 'tool_call'}, {'name': 'addadd', 'args': {'a': 11, 'b': 49}, 'id': 'call_97bvpojgqDbKFkZqgwbtJiYdcall_ItCryAXXxJRg9y3U4ikGJq4j', 'type': 'tool_call'}]\n",
      "[{'name': 'multiplymultiplymultiply', 'args': {'a': 3, 'b': 12}, 'id': 'call_6LhRibqh52pMYWDp6f2Wfy4Qcall_erQMMzwDObuV2U6MOLDtjm9Mcall_Js6iWl6ZqnaOsqHxTfzPhm0p', 'type': 'tool_call'}, {'name': 'addadd', 'args': {'a': 11, 'b': 49}, 'id': 'call_97bvpojgqDbKFkZqgwbtJiYdcall_ItCryAXXxJRg9y3U4ikGJq4j', 'type': 'tool_call'}]\n",
      "[{'name': 'multiplymultiplymultiply', 'args': {'a': 3, 'b': 12}, 'id': 'call_6LhRibqh52pMYWDp6f2Wfy4Qcall_erQMMzwDObuV2U6MOLDtjm9Mcall_Js6iWl6ZqnaOsqHxTfzPhm0p', 'type': 'tool_call'}, {'name': 'addadd', 'args': {'a': 11, 'b': 49}, 'id': 'call_97bvpojgqDbKFkZqgwbtJiYdcall_ItCryAXXxJRg9y3U4ikGJq4j', 'type': 'tool_call'}]\n",
      "[{'name': 'multiplymultiplymultiply', 'args': {'a': 3, 'b': 12}, 'id': 'call_6LhRibqh52pMYWDp6f2Wfy4Qcall_erQMMzwDObuV2U6MOLDtjm9Mcall_Js6iWl6ZqnaOsqHxTfzPhm0p', 'type': 'tool_call'}, {'name': 'addaddadd', 'args': {'a': 11, 'b': 49}, 'id': 'call_97bvpojgqDbKFkZqgwbtJiYdcall_ItCryAXXxJRg9y3U4ikGJq4jcall_pXAwQMGkrbFIJNANo3sxTuab', 'type': 'tool_call'}]\n",
      "[{'name': 'multiplymultiplymultiply', 'args': {'a': 3, 'b': 12}, 'id': 'call_6LhRibqh52pMYWDp6f2Wfy4Qcall_erQMMzwDObuV2U6MOLDtjm9Mcall_Js6iWl6ZqnaOsqHxTfzPhm0p', 'type': 'tool_call'}, {'name': 'addaddadd', 'args': {'a': 11, 'b': 49}, 'id': 'call_97bvpojgqDbKFkZqgwbtJiYdcall_ItCryAXXxJRg9y3U4ikGJq4jcall_pXAwQMGkrbFIJNANo3sxTuab', 'type': 'tool_call'}]\n",
      "[{'name': 'multiplymultiplymultiply', 'args': {'a': 3, 'b': 12}, 'id': 'call_6LhRibqh52pMYWDp6f2Wfy4Qcall_erQMMzwDObuV2U6MOLDtjm9Mcall_Js6iWl6ZqnaOsqHxTfzPhm0p', 'type': 'tool_call'}, {'name': 'addaddadd', 'args': {'a': 11, 'b': 49}, 'id': 'call_97bvpojgqDbKFkZqgwbtJiYdcall_ItCryAXXxJRg9y3U4ikGJq4jcall_pXAwQMGkrbFIJNANo3sxTuab', 'type': 'tool_call'}]\n",
      "[{'name': 'multiplymultiplymultiply', 'args': {'a': 3, 'b': 12}, 'id': 'call_6LhRibqh52pMYWDp6f2Wfy4Qcall_erQMMzwDObuV2U6MOLDtjm9Mcall_Js6iWl6ZqnaOsqHxTfzPhm0p', 'type': 'tool_call'}, {'name': 'addaddadd', 'args': {'a': 11, 'b': 49}, 'id': 'call_97bvpojgqDbKFkZqgwbtJiYdcall_ItCryAXXxJRg9y3U4ikGJq4jcall_pXAwQMGkrbFIJNANo3sxTuab', 'type': 'tool_call'}]\n",
      "[{'name': 'multiplymultiplymultiply', 'args': {'a': 3, 'b': 12}, 'id': 'call_6LhRibqh52pMYWDp6f2Wfy4Qcall_erQMMzwDObuV2U6MOLDtjm9Mcall_Js6iWl6ZqnaOsqHxTfzPhm0p', 'type': 'tool_call'}, {'name': 'addaddadd', 'args': {'a': 11, 'b': 49}, 'id': 'call_97bvpojgqDbKFkZqgwbtJiYdcall_ItCryAXXxJRg9y3U4ikGJq4jcall_pXAwQMGkrbFIJNANo3sxTuab', 'type': 'tool_call'}]\n",
      "[{'name': 'multiplymultiplymultiply', 'args': {'a': 3, 'b': 12}, 'id': 'call_6LhRibqh52pMYWDp6f2Wfy4Qcall_erQMMzwDObuV2U6MOLDtjm9Mcall_Js6iWl6ZqnaOsqHxTfzPhm0p', 'type': 'tool_call'}, {'name': 'addaddadd', 'args': {'a': 11, 'b': 49}, 'id': 'call_97bvpojgqDbKFkZqgwbtJiYdcall_ItCryAXXxJRg9y3U4ikGJq4jcall_pXAwQMGkrbFIJNANo3sxTuab', 'type': 'tool_call'}]\n"
     ]
    }
   ],
   "source": [
    "first = False\n",
    "async for chunk in llm_with_tools.astream(query):\n",
    "    if first:\n",
    "        gathered = chunk\n",
    "        first = True\n",
    "    else:\n",
    "        gathered = gathered + chunk\n",
    "\n",
    "    print(gathered.tool_calls)"
   ]
  },
  {
   "cell_type": "code",
   "execution_count": 16,
   "metadata": {},
   "outputs": [
    {
     "name": "stdout",
     "output_type": "stream",
     "text": [
      "<class 'dict'>\n"
     ]
    }
   ],
   "source": [
    "print(type(gathered.tool_calls[0][\"args\"]))"
   ]
  },
  {
   "cell_type": "code",
   "execution_count": 18,
   "metadata": {},
   "outputs": [
    {
     "data": {
      "text/plain": [
       "[HumanMessage(content='What is 3 * 12? Also, what is 11 + 49?', additional_kwargs={}, response_metadata={}),\n",
       " AIMessage(content='', additional_kwargs={'tool_calls': [{'id': 'call_rQaqPrGLUpTXGVYEarptxUMT', 'function': {'arguments': '{\"a\": 3, \"b\": 12}', 'name': 'multiply'}, 'type': 'function'}, {'id': 'call_dD1nZDCwYY1btHTzbcUiVwtY', 'function': {'arguments': '{\"a\": 11, \"b\": 49}', 'name': 'add'}, 'type': 'function'}], 'refusal': None}, response_metadata={'token_usage': {'completion_tokens': 50, 'prompt_tokens': 113, 'total_tokens': 163, 'completion_tokens_details': {'audio_tokens': None, 'reasoning_tokens': 0}, 'prompt_tokens_details': {'audio_tokens': None, 'cached_tokens': 0}}, 'model_name': 'gpt-4o-mini-2024-07-18', 'system_fingerprint': 'fp_e2bde53e6e', 'finish_reason': 'tool_calls', 'logprobs': None}, id='run-7e222217-db03-4f35-a790-21255030df88-0', tool_calls=[{'name': 'multiply', 'args': {'a': 3, 'b': 12}, 'id': 'call_rQaqPrGLUpTXGVYEarptxUMT', 'type': 'tool_call'}, {'name': 'add', 'args': {'a': 11, 'b': 49}, 'id': 'call_dD1nZDCwYY1btHTzbcUiVwtY', 'type': 'tool_call'}], usage_metadata={'input_tokens': 113, 'output_tokens': 50, 'total_tokens': 163, 'input_token_details': {'cache_read': 0}, 'output_token_details': {'reasoning': 0}}),\n",
       " ToolMessage(content='36', tool_call_id='call_rQaqPrGLUpTXGVYEarptxUMT'),\n",
       " ToolMessage(content='60', tool_call_id='call_dD1nZDCwYY1btHTzbcUiVwtY')]"
      ]
     },
     "execution_count": 18,
     "metadata": {},
     "output_type": "execute_result"
    }
   ],
   "source": [
    "from langchain_core.messages import HumanMessage, ToolMessage\n",
    "\n",
    "\n",
    "@tool\n",
    "def add(a: int, b: int) -> int:\n",
    "    \"\"\"Adds a and b.\n",
    "\n",
    "    Args:\n",
    "        a: first int\n",
    "        b: second int\n",
    "    \"\"\"\n",
    "    return a + b\n",
    "\n",
    "\n",
    "@tool\n",
    "def multiply(a: int, b: int) -> int:\n",
    "    \"\"\"Multiplies a and b.\n",
    "\n",
    "    Args:\n",
    "        a: first int\n",
    "        b: second int\n",
    "    \"\"\"\n",
    "    return a * b\n",
    "\n",
    "\n",
    "tools = [add, multiply]\n",
    "llm_with_tools = llm.bind_tools(tools)\n",
    "\n",
    "messages = [HumanMessage(query)]\n",
    "ai_msg = llm_with_tools.invoke(messages)\n",
    "messages.append(ai_msg)\n",
    "\n",
    "for tool_call in ai_msg.tool_calls:\n",
    "    selected_tool = {\"add\": add, \"multiply\": multiply}[tool_call[\"name\"].lower()]\n",
    "    tool_output = selected_tool.invoke(tool_call[\"args\"])\n",
    "    messages.append(ToolMessage(tool_output, tool_call_id=tool_call[\"id\"]))\n",
    "\n",
    "messages"
   ]
  },
  {
   "cell_type": "code",
   "execution_count": 19,
   "metadata": {},
   "outputs": [
    {
     "data": {
      "text/plain": [
       "AIMessage(content='The result of \\\\(3 \\\\times 12\\\\) is 36, and \\\\(11 + 49\\\\) equals 60.', additional_kwargs={'refusal': None}, response_metadata={'token_usage': {'completion_tokens': 28, 'prompt_tokens': 179, 'total_tokens': 207, 'completion_tokens_details': {'audio_tokens': None, 'reasoning_tokens': 0}, 'prompt_tokens_details': {'audio_tokens': None, 'cached_tokens': 0}}, 'model_name': 'gpt-4o-mini-2024-07-18', 'system_fingerprint': 'fp_e2bde53e6e', 'finish_reason': 'stop', 'logprobs': None}, id='run-35d56643-4e75-4ba3-8a1e-9be826563bb3-0', usage_metadata={'input_tokens': 179, 'output_tokens': 28, 'total_tokens': 207, 'input_token_details': {'cache_read': 0}, 'output_token_details': {'reasoning': 0}})"
      ]
     },
     "execution_count": 19,
     "metadata": {},
     "output_type": "execute_result"
    }
   ],
   "source": [
    "llm_with_tools.invoke(messages)"
   ]
  },
  {
   "cell_type": "code",
   "execution_count": 20,
   "metadata": {},
   "outputs": [
    {
     "data": {
      "text/plain": [
       "[{'name': 'multiply',\n",
       "  'args': {'a': 119, 'b': 8},\n",
       "  'id': 'call_pM25CsMSgAorf0zOWqY3ka4K',\n",
       "  'type': 'tool_call'},\n",
       " {'name': 'add',\n",
       "  'args': {'a': -20, 'b': 0},\n",
       "  'id': 'call_o20L5JHAvc1W01CkO5CMb9Y1',\n",
       "  'type': 'tool_call'}]"
      ]
     },
     "execution_count": 20,
     "metadata": {},
     "output_type": "execute_result"
    }
   ],
   "source": [
    "llm_with_tools.invoke(\n",
    "    \"\"\"Whats 119 times 8 minus 20. Don't so any math yourself,\n",
    "      only se tools for math . Respect of operations\"\"\"\n",
    ").tool_calls"
   ]
  },
  {
   "cell_type": "code",
   "execution_count": 23,
   "metadata": {},
   "outputs": [
    {
     "data": {
      "text/plain": [
       "[{'name': 'multiply',\n",
       "  'args': {'a': 119, 'b': 8},\n",
       "  'id': 'call_nUlhqFAJ6ey24XitYJvmEAbC',\n",
       "  'type': 'tool_call'},\n",
       " {'name': 'add',\n",
       "  'args': {'a': 20, 'b': -20},\n",
       "  'id': 'call_lEZW9w5K7LbAAaHOSfICBPNO',\n",
       "  'type': 'tool_call'}]"
      ]
     },
     "execution_count": 23,
     "metadata": {},
     "output_type": "execute_result"
    }
   ],
   "source": [
    "from langchain_core.messages import AIMessage\n",
    "from langchain_core.prompts import ChatPromptTemplate\n",
    "from langchain_core.runnables import RunnablePassthrough\n",
    "\n",
    "examples = [\n",
    "    HumanMessage(\n",
    "        \"What's the product of 317253 and 128472 plus four\", name=\"example_user\"\n",
    "    ),\n",
    "    AIMessage(\n",
    "        \"\",\n",
    "        name=\"example_assistant\",\n",
    "        tool_calls=[\n",
    "            {\"name\": \"multiply\", \"args\": {\"x\": 317253, \"y\": 128472}, \"id\": \"1\"}\n",
    "        ],\n",
    "    ),\n",
    "    ToolMessage(\"16505054784\", tool_call_id=\"1\"),\n",
    "    AIMessage(\n",
    "        \"\",\n",
    "        name=\"example_assistant\",\n",
    "        tool_calls=[{\"name\": \"add\", \"args\": {\"x\": 16505054784, \"y\": 4}, \"id\": \"2\"}],\n",
    "    ),\n",
    "    ToolMessage(\"16505054788\", tool_call_id=\"2\"),\n",
    "    AIMessage(\n",
    "        \"The product of 317253 and 128472 plus four is 16505054788\",\n",
    "        name=\"example_assistant\",\n",
    "    ),\n",
    "]\n",
    "\n",
    "system = \"\"\"You are bad at math but are an expert at using a calculator. \n",
    "\n",
    "Use past tool usage as an example of how to correctly use the tools.\"\"\"\n",
    "few_shot_prompt = ChatPromptTemplate.from_messages(\n",
    "    [\n",
    "        (\"system\", system),\n",
    "        *examples,\n",
    "        (\"human\", \"{query}\"),\n",
    "    ]\n",
    ")\n",
    "\n",
    "chain = {\"query\": RunnablePassthrough()} | few_shot_prompt | llm_with_tools\n",
    "chain.invoke(\"Whats 119 times 8 minus 20\").tool_calls"
   ]
  }
 ],
 "metadata": {
  "kernelspec": {
   "display_name": "Python 3",
   "language": "python",
   "name": "python3"
  },
  "language_info": {
   "codemirror_mode": {
    "name": "ipython",
    "version": 3
   },
   "file_extension": ".py",
   "mimetype": "text/x-python",
   "name": "python",
   "nbconvert_exporter": "python",
   "pygments_lexer": "ipython3",
   "version": "3.11.7"
  }
 },
 "nbformat": 4,
 "nbformat_minor": 2
}
