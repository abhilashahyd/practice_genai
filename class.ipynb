{
 "cells": [
  {
   "cell_type": "code",
   "execution_count": 1,
   "metadata": {},
   "outputs": [
    {
     "name": "stdout",
     "output_type": "stream",
     "text": [
      "<__main__.Student object at 0x0000016D69155350>\n",
      "This is student class for display student details \n"
     ]
    }
   ],
   "source": [
    "class Student :\n",
    "      \"\"\"This is student class for display student details \"\"\"\n",
    "\n",
    "s = Student()\n",
    "print(s)\n",
    "print(s.__doc__)"
   ]
  },
  {
   "cell_type": "code",
   "execution_count": 2,
   "metadata": {},
   "outputs": [
    {
     "name": "stdout",
     "output_type": "stream",
     "text": [
      "Employee id is : 101\n",
      "Employee Name is : Nanhi Dev\n",
      "Employee Address is : Hyderabad\n",
      "Employee Salary is : 30000\n"
     ]
    }
   ],
   "source": [
    "class Employee :\n",
    "    def __init__(self):\n",
    "        self.a = 101\n",
    "        self.b = 'Nanhi Dev'\n",
    "        self.c = 'Hyderabad'\n",
    "        self.d = 30000\n",
    "\n",
    "    def emp_details(self):\n",
    "        print('Employee id is :',self.a)\n",
    "        print('Employee Name is :',self.b)\n",
    "        print(\"Employee Address is :\",self.c)\n",
    "        print(\"Employee Salary is :\",self.d)\n",
    "\n",
    "E = Employee()\n",
    "E.emp_details()"
   ]
  },
  {
   "cell_type": "code",
   "execution_count": 5,
   "metadata": {},
   "outputs": [
    {
     "name": "stdout",
     "output_type": "stream",
     "text": [
      "Client id is : 121\n",
      "Client Name is : Anuja\n",
      "Client Address is : Bihar\n",
      "Client Mail is : anuja@gmail.com\n",
      "\n",
      "Client id is : 122\n",
      "Client Name is : Sirisha\n",
      "Client Address is : Hyderabad\n",
      "Client Mail is : sirisha@gmail.com\n"
     ]
    }
   ],
   "source": [
    "class Client :\n",
    "    def __init__(self,id,name,address, mail):\n",
    "        self.id = id\n",
    "        self.name = name \n",
    "        self.address = address\n",
    "        self.mail = mail\n",
    "\n",
    "    def Client_details(self):\n",
    "        print(\"Client id is :\",self.id)\n",
    "        print(\"Client Name is :\",self.name)\n",
    "        print(\"Client Address is :\",self.address)\n",
    "        print('Client Mail is :',self.mail)\n",
    "\n",
    "C = Client(121,\"Anuja\",\"Bihar\",'anuja@gmail.com')\n",
    "C.Client_details()\n",
    "print()\n",
    "C1 = Client(122 ,\"Sirisha\",\"Hyderabad\",\"sirisha@gmail.com\")\n",
    "C1.Client_details()"
   ]
  },
  {
   "cell_type": "code",
   "execution_count": 8,
   "metadata": {},
   "outputs": [
    {
     "name": "stdout",
     "output_type": "stream",
     "text": [
      "{'id': 121, 'Name': 'Priya di', 'Address': 'Bhaglpur', 'Age': 30}\n"
     ]
    }
   ],
   "source": [
    "class Student :\n",
    "    def __init__(self, a,b,c,d):\n",
    "        self.id = a\n",
    "        self.Name = b\n",
    "        self.Address = c\n",
    "        self.Age = d\n",
    "\n",
    "S = Student(121 , \"Priya di\", \"Bhaglpur\",30)\n",
    "print(S.__dict__)"
   ]
  },
  {
   "cell_type": "code",
   "execution_count": 9,
   "metadata": {},
   "outputs": [
    {
     "name": "stdout",
     "output_type": "stream",
     "text": [
      "{'a': 10, 'b': 20, 'c': 30}\n"
     ]
    }
   ],
   "source": [
    "class Text:\n",
    "    def __init__(self):\n",
    "        self.a = 10\n",
    "\n",
    "    def m1(self):\n",
    "        self.b = 20\n",
    "\n",
    "T = Text()\n",
    "T.m1()\n",
    "T.c = 30\n",
    "print(T.__dict__)"
   ]
  },
  {
   "cell_type": "code",
   "execution_count": 11,
   "metadata": {},
   "outputs": [
    {
     "name": "stdout",
     "output_type": "stream",
     "text": [
      "Withing the class !\n",
      "Shika\n",
      "Ishika\n",
      "Diksha\n",
      "\n",
      "Outside of the class !\n",
      "Shika\n",
      "Ishika\n",
      "Diksha\n"
     ]
    }
   ],
   "source": [
    "class Text1:\n",
    "    def __init__(self):\n",
    "        self.a = \"Shika\"\n",
    "        self.b = \"Ishika\"\n",
    "        self.c = \"Diksha\"\n",
    "\n",
    "    def m1(self):\n",
    "        print(\"Withing the class !\")\n",
    "        print(self.a)\n",
    "        print(self.b)\n",
    "        print(self.c)\n",
    "\n",
    "T = Text1()\n",
    "T.m1()\n",
    "print()\n",
    "print(\"Outside of the class !\")\n",
    "print(T.a)\n",
    "print(T.b)\n",
    "print(T.c)"
   ]
  },
  {
   "cell_type": "code",
   "execution_count": 26,
   "metadata": {},
   "outputs": [
    {
     "name": "stdout",
     "output_type": "stream",
     "text": [
      "                                  2024\n",
      "\n",
      "      January                   February                   March\n",
      "Mo Tu We Th Fr Sa Su      Mo Tu We Th Fr Sa Su      Mo Tu We Th Fr Sa Su\n",
      " 1  2  3  4  5  6  7                1  2  3  4                   1  2  3\n",
      " 8  9 10 11 12 13 14       5  6  7  8  9 10 11       4  5  6  7  8  9 10\n",
      "15 16 17 18 19 20 21      12 13 14 15 16 17 18      11 12 13 14 15 16 17\n",
      "22 23 24 25 26 27 28      19 20 21 22 23 24 25      18 19 20 21 22 23 24\n",
      "29 30 31                  26 27 28 29               25 26 27 28 29 30 31\n",
      "\n",
      "       April                      May                       June\n",
      "Mo Tu We Th Fr Sa Su      Mo Tu We Th Fr Sa Su      Mo Tu We Th Fr Sa Su\n",
      " 1  2  3  4  5  6  7             1  2  3  4  5                      1  2\n",
      " 8  9 10 11 12 13 14       6  7  8  9 10 11 12       3  4  5  6  7  8  9\n",
      "15 16 17 18 19 20 21      13 14 15 16 17 18 19      10 11 12 13 14 15 16\n",
      "22 23 24 25 26 27 28      20 21 22 23 24 25 26      17 18 19 20 21 22 23\n",
      "29 30                     27 28 29 30 31            24 25 26 27 28 29 30\n",
      "\n",
      "        July                     August                  September\n",
      "Mo Tu We Th Fr Sa Su      Mo Tu We Th Fr Sa Su      Mo Tu We Th Fr Sa Su\n",
      " 1  2  3  4  5  6  7                1  2  3  4                         1\n",
      " 8  9 10 11 12 13 14       5  6  7  8  9 10 11       2  3  4  5  6  7  8\n",
      "15 16 17 18 19 20 21      12 13 14 15 16 17 18       9 10 11 12 13 14 15\n",
      "22 23 24 25 26 27 28      19 20 21 22 23 24 25      16 17 18 19 20 21 22\n",
      "29 30 31                  26 27 28 29 30 31         23 24 25 26 27 28 29\n",
      "                                                    30\n",
      "\n",
      "      October                   November                  December\n",
      "Mo Tu We Th Fr Sa Su      Mo Tu We Th Fr Sa Su      Mo Tu We Th Fr Sa Su\n",
      "    1  2  3  4  5  6                   1  2  3                         1\n",
      " 7  8  9 10 11 12 13       4  5  6  7  8  9 10       2  3  4  5  6  7  8\n",
      "14 15 16 17 18 19 20      11 12 13 14 15 16 17       9 10 11 12 13 14 15\n",
      "21 22 23 24 25 26 27      18 19 20 21 22 23 24      16 17 18 19 20 21 22\n",
      "28 29 30 31               25 26 27 28 29 30         23 24 25 26 27 28 29\n",
      "                                                    30 31\n",
      "\n"
     ]
    }
   ],
   "source": [
    "import calendar\n",
    "\n",
    "class Calender:\n",
    "    def __init__(self):\n",
    "        pass \n",
    "\n",
    "    def get_cal(self, year):\n",
    "        print(calendar.calendar(year))\n",
    "\n",
    "# Creating an instance of the Calender class\n",
    "c = Calender()\n",
    "c.get_cal(2024)  # Specify the year as an argument\n"
   ]
  },
  {
   "cell_type": "code",
   "execution_count": 20,
   "metadata": {},
   "outputs": [
    {
     "name": "stdout",
     "output_type": "stream",
     "text": [
      "['False', 'None', 'True', 'and', 'as', 'assert', 'async', 'await', 'break', 'class', 'continue', 'def', 'del', 'elif', 'else', 'except', 'finally', 'for', 'from', 'global', 'if', 'import', 'in', 'is', 'lambda', 'nonlocal', 'not', 'or', 'pass', 'raise', 'return', 'try', 'while', 'with', 'yield']\n"
     ]
    }
   ],
   "source": [
    "import keyword\n",
    "\n",
    "class KeyWord :\n",
    "    def __init__(self):\n",
    "        pass \n",
    "\n",
    "    def get_keyword(self):\n",
    "        print(keyword.kwlist)\n",
    "\n",
    "k = KeyWord()\n",
    "k.get_keyword()\n"
   ]
  }
 ],
 "metadata": {
  "kernelspec": {
   "display_name": "Python 3",
   "language": "python",
   "name": "python3"
  },
  "language_info": {
   "codemirror_mode": {
    "name": "ipython",
    "version": 3
   },
   "file_extension": ".py",
   "mimetype": "text/x-python",
   "name": "python",
   "nbconvert_exporter": "python",
   "pygments_lexer": "ipython3",
   "version": "3.11.7"
  }
 },
 "nbformat": 4,
 "nbformat_minor": 2
}
