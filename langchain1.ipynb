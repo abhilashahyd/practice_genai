{
 "cells": [
  {
   "cell_type": "code",
   "execution_count": 13,
   "metadata": {},
   "outputs": [],
   "source": [
    "from dotenv import load_dotenv\n",
    "import os\n",
    "load_dotenv()\n",
    "openapi_key = os.environ[\"OPENAI_API_KEY\"]\n"
   ]
  },
  {
   "cell_type": "code",
   "execution_count": 8,
   "metadata": {},
   "outputs": [
    {
     "name": "stdout",
     "output_type": "stream",
     "text": [
      "\n",
      "\n",
      "1. Aaradhya (Indian)\n",
      "2. Savannah (American)\n",
      "3. Mei Ling (Chinese)\n",
      "4. Kritika (Nepali)\n",
      "5. Zara (Indian)\n",
      "6. Harper (American)\n",
      "7. Li Na (Chinese)\n",
      "8. Aanya (Nepali)\n",
      "9. Aria (Indian)\n",
      "10. Charlotte (American)\n",
      "11. Xiu Ying (Chinese)\n",
      "12. Anjali (Nepali)\n",
      "13. Nisha (Indian)\n",
      "14. Kennedy (American)\n",
      "15. Jing (Chinese)\n",
      "16. Kavya (Nepali)\n",
      "17. Diya (Indian)\n",
      "18. Skylar (American)\n",
      "19. Ying Yue (Chinese)\n",
      "20. Amisha (Nepali)  \n",
      "\n",
      "1. Aarav Kingston \n",
      "2. Kian Alexander \n",
      "3. Rohan Maverick \n",
      "4. Zayn Phoenix \n",
      "5. Aditya Sterling \n",
      "6. Arnav Hudson \n",
      "7. Jai Everett \n",
      "8. Rishi Giovanni \n",
      "9. Kunal Cruz \n",
      "10. Neel Xavier\n",
      "\n",
      " \n",
      "\n",
      "1. Aarav Kingston \n",
      "2. Kian Alexander \n",
      "3. Rohan Maverick \n",
      "4. Zayn Phoenix \n",
      "5. Aditya Sterling \n",
      "6. Arnav Hudson \n",
      "7. Jai Everett \n",
      "8. Rishi Giovanni \n",
      "9. Kunal Cruz \n",
      "10. Neel Xavier\n"
     ]
    }
   ],
   "source": [
    "from langchain.llms import OpenAI\n",
    "\n",
    "llm = OpenAI(temperature = 0.6)\n",
    "name = llm(\"i want to bahy girls name indian, American , Chine , Nepal. Suggest a fancy different name .\")\n",
    "name1 = llm(\"i want to bahy boys both name indian, American , Chine , Nepal. Suggest a fancy different name .\")\n",
    "print(name,name1)\n",
    "print()\n",
    "print(name1)"
   ]
  }
 ],
 "metadata": {
  "kernelspec": {
   "display_name": "Python 3",
   "language": "python",
   "name": "python3"
  },
  "language_info": {
   "codemirror_mode": {
    "name": "ipython",
    "version": 3
   },
   "file_extension": ".py",
   "mimetype": "text/x-python",
   "name": "python",
   "nbconvert_exporter": "python",
   "pygments_lexer": "ipython3",
   "version": "3.11.7"
  }
 },
 "nbformat": 4,
 "nbformat_minor": 2
}
