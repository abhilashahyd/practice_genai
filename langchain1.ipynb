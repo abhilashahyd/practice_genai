{
 "cells": [
  {
   "cell_type": "code",
   "execution_count": 13,
   "metadata": {},
   "outputs": [],
   "source": [
    "from dotenv import load_dotenv\n",
    "import os\n",
    "load_dotenv()\n",
    "openapi_key = os.environ[\"OPENAI_API_KEY\"]\n"
   ]
  },
  {
   "cell_type": "code",
   "execution_count": 3,
   "metadata": {},
   "outputs": [
    {
     "name": "stdout",
     "output_type": "stream",
     "text": [
      "\n",
      "\n",
      "\n",
      "1. Aarav (Indian)\n",
      "2. Olivia (American)\n",
      "3. Kaida (Chinese)\n",
      "4. Arjun (Indian)\n",
      "5. Harper (American)\n",
      "6. Li Wei (Chinese)\n",
      "7. Aanya (Indian)\n",
      "8. Mason (American)\n",
      "9. Jing (Chinese)\n",
      "10. Advaita (Indian)\n",
      "11. Scarlett (American)\n",
      "12. Yuan (Chinese)\n",
      "13. Eshaan (Indian)\n",
      "14. Isabella (American)\n",
      "15. Tao (Chinese)\n",
      "16. Nirali (Indian)\n",
      "17. Jackson (American)\n",
      "18. Meiling (Chinese)\n",
      "19. Sahil (Indian)\n",
      "20. Chloe (American)\n",
      "21. Chen (Chinese)\n",
      "22. Ananya (Indian)\n",
      "23. Ethan (American)\n",
      "24. Xin (Chinese)\n",
      "25. Riya (Indian)\n",
      "26. Amelia (American)\n",
      "27. Kai (Chinese)\n",
      "28. Aryan (Indian)\n",
      "29. Lily (American)\n",
      "30. Zhi (Chinese)\n"
     ]
    }
   ],
   "source": [
    "from langchain.llms import OpenAI\n",
    "\n",
    "llm = OpenAI(temperature = 0.6)\n",
    "name = llm(\"i want to bahy girls and boys both name indian, American , Chine , Nepal. Suggest a fancy different name .\")\n",
    "print(name)"
   ]
  }
 ],
 "metadata": {
  "kernelspec": {
   "display_name": "Python 3",
   "language": "python",
   "name": "python3"
  },
  "language_info": {
   "codemirror_mode": {
    "name": "ipython",
    "version": 3
   },
   "file_extension": ".py",
   "mimetype": "text/x-python",
   "name": "python",
   "nbconvert_exporter": "python",
   "pygments_lexer": "ipython3",
   "version": "3.11.7"
  }
 },
 "nbformat": 4,
 "nbformat_minor": 2
}
